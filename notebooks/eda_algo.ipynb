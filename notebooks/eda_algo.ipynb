{
 "cells": [
  {
   "cell_type": "code",
   "execution_count": 1,
   "metadata": {},
   "outputs": [],
   "source": [
    "import os\n",
    "os.chdir(\"..\")"
   ]
  },
  {
   "cell_type": "code",
   "execution_count": 2,
   "metadata": {},
   "outputs": [
    {
     "name": "stdout",
     "output_type": "stream",
     "text": [
      "2022-12-09 19:01:44,419 - root - INFO - Updated path to Kedro project: C:\\Users\\Lianz\\Documents\\medgc-tesis\n",
      "2022-12-09 19:01:45,047 - kedro.framework.session.store - INFO - `read()` not implemented for `BaseSessionStore`. Assuming empty store.\n"
     ]
    },
    {
     "name": "stderr",
     "output_type": "stream",
     "text": [
      "d:\\Programs\\Anaconda3\\envs\\medgc-tesis-v2\\lib\\site-packages\\tllib-0.4-py3.9.egg\\tllib\\alignment\\cdan.py:134: DeprecationWarning: invalid escape sequence \\o\n",
      "d:\\Programs\\Anaconda3\\envs\\medgc-tesis-v2\\lib\\site-packages\\tllib-0.4-py3.9.egg\\tllib\\alignment\\cdan.py:134: DeprecationWarning: invalid escape sequence \\o\n",
      "d:\\Programs\\Anaconda3\\envs\\medgc-tesis-v2\\lib\\site-packages\\tqdm\\auto.py:22: TqdmWarning: IProgress not found. Please update jupyter and ipywidgets. See https://ipywidgets.readthedocs.io/en/stable/user_install.html\n",
      "  from .autonotebook import tqdm as notebook_tqdm\n",
      "d:\\Programs\\Anaconda3\\envs\\medgc-tesis-v2\\lib\\site-packages\\tllib-0.4-py3.9.egg\\tllib\\modules\\grl.py:34: DeprecationWarning: invalid escape sequence \\m\n",
      "d:\\Programs\\Anaconda3\\envs\\medgc-tesis-v2\\lib\\site-packages\\tllib-0.4-py3.9.egg\\tllib\\modules\\grl.py:34: DeprecationWarning: invalid escape sequence \\m\n",
      "d:\\Programs\\Anaconda3\\envs\\medgc-tesis-v2\\lib\\site-packages\\tllib-0.4-py3.9.egg\\tllib\\alignment\\mdd.py:266: DeprecationWarning: invalid escape sequence \\l\n",
      "d:\\Programs\\Anaconda3\\envs\\medgc-tesis-v2\\lib\\site-packages\\tllib-0.4-py3.9.egg\\tllib\\alignment\\mdd.py:266: DeprecationWarning: invalid escape sequence \\l\n",
      "d:\\Programs\\Anaconda3\\envs\\medgc-tesis-v2\\lib\\site-packages\\torchvision\\transforms\\functional_pil.py:228: DeprecationWarning: BILINEAR is deprecated and will be removed in Pillow 10 (2023-07-01). Use Resampling.BILINEAR instead.\n",
      "  interpolation: int = Image.BILINEAR,\n",
      "d:\\Programs\\Anaconda3\\envs\\medgc-tesis-v2\\lib\\site-packages\\torchvision\\transforms\\functional_pil.py:295: DeprecationWarning: NEAREST is deprecated and will be removed in Pillow 10 (2023-07-01). Use Resampling.NEAREST or Dither.NONE instead.\n",
      "  interpolation: int = Image.NEAREST,\n",
      "d:\\Programs\\Anaconda3\\envs\\medgc-tesis-v2\\lib\\site-packages\\torchvision\\transforms\\functional_pil.py:311: DeprecationWarning: NEAREST is deprecated and will be removed in Pillow 10 (2023-07-01). Use Resampling.NEAREST or Dither.NONE instead.\n",
      "  interpolation: int = Image.NEAREST,\n",
      "d:\\Programs\\Anaconda3\\envs\\medgc-tesis-v2\\lib\\site-packages\\torchvision\\transforms\\functional_pil.py:328: DeprecationWarning: BICUBIC is deprecated and will be removed in Pillow 10 (2023-07-01). Use Resampling.BICUBIC instead.\n",
      "  interpolation: int = Image.BICUBIC,\n"
     ]
    },
    {
     "name": "stdout",
     "output_type": "stream",
     "text": [
      "2022-12-09 19:01:52,743 - root - INFO - ** Kedro project MEDGC Tesis\n",
      "2022-12-09 19:01:52,746 - root - INFO - Defined global variable `context`, `session`, `catalog` and `pipelines`\n",
      "2022-12-09 19:01:56,003 - root - INFO - Registered line magic `run_viz`\n"
     ]
    }
   ],
   "source": [
    "%load_ext kedro.extras.extensions.ipython"
   ]
  },
  {
   "cell_type": "code",
   "execution_count": 3,
   "metadata": {},
   "outputs": [
    {
     "name": "stdout",
     "output_type": "stream",
     "text": [
      "2022-12-09 19:01:56,053 - kedro.io.data_catalog - INFO - Loading data from `modelo_resnet_dann` (PytorchModelDataSet)...\n"
     ]
    }
   ],
   "source": [
    "modelo_resnet_dann = catalog.load(\"modelo_resnet_dann\")"
   ]
  },
  {
   "cell_type": "code",
   "execution_count": 4,
   "metadata": {},
   "outputs": [
    {
     "name": "stderr",
     "output_type": "stream",
     "text": [
      "d:\\Programs\\Anaconda3\\envs\\medgc-tesis-v2\\lib\\site-packages\\torch\\utils\\tensorboard\\__init__.py:4: DeprecationWarning: distutils Version classes are deprecated. Use packaging.version instead.\n",
      "  if not hasattr(tensorboard, '__version__') or LooseVersion(tensorboard.__version__) < LooseVersion('1.15'):\n"
     ]
    },
    {
     "name": "stdout",
     "output_type": "stream",
     "text": [
      "2022-12-09 19:02:00,977 - pytorch_lightning.utilities.seed - INFO - Global seed set to 48721\n"
     ]
    }
   ],
   "source": [
    "from medgc_tesis.pipelines.modeling.backbone import LeNetBackbone, ResNet18Backbone\n",
    "from medgc_tesis.pipelines.modeling.models.data import DomainAdaptationDataModule\n",
    "from torch import nn\n",
    "from tllib.alignment.dann import ImageClassifier\n",
    "from tqdm import tqdm\n",
    "import torch"
   ]
  },
  {
   "cell_type": "code",
   "execution_count": 5,
   "metadata": {},
   "outputs": [],
   "source": [
    "backbone = ResNet18Backbone()"
   ]
  },
  {
   "cell_type": "code",
   "execution_count": 6,
   "metadata": {},
   "outputs": [],
   "source": [
    "dm = DomainAdaptationDataModule(transform=backbone.data_transform())\n",
    "dm.setup(None)"
   ]
  },
  {
   "cell_type": "code",
   "execution_count": 7,
   "metadata": {},
   "outputs": [],
   "source": [
    "if hasattr(modelo_resnet_dann, \"pool_layer\"):\n",
    "    feature_extractor = nn.Sequential(modelo_resnet_dann.backbone, modelo_resnet_dann.pool_layer, modelo_resnet_dann.bottleneck)\n",
    "else:\n",
    "    feature_extractor = nn.Sequential(modelo_resnet_dann.backbone, modelo_resnet_dann.bottleneck)\n",
    "\n",
    "feature_extractor = feature_extractor.to(\"cuda\")"
   ]
  },
  {
   "cell_type": "code",
   "execution_count": 8,
   "metadata": {},
   "outputs": [
    {
     "name": "stderr",
     "output_type": "stream",
     "text": [
      " 67%|██████▋   | 6/9 [00:24<00:12,  4.03s/it]\n"
     ]
    }
   ],
   "source": [
    "f_ss = []\n",
    "y_ss = []\n",
    "f_tt = []\n",
    "\n",
    "for idx, batch in enumerate(tqdm(dm.test_dataloader())):\n",
    "    if idx > 5:\n",
    "        break\n",
    "\n",
    "    x_s, y_s = batch[\"mnist\"]\n",
    "    x_t, y_t = batch[\"mnist\"]\n",
    "\n",
    "    x_s = x_s.to(\"cuda\")\n",
    "    x_t = x_t.to(\"cuda\")\n",
    "\n",
    "    f_s = feature_extractor(x_s)\n",
    "    f_t = feature_extractor(x_t)\n",
    "\n",
    "    f_ss.append(f_s)\n",
    "    y_ss.append(y_s)\n",
    "    f_tt.append(f_t)"
   ]
  },
  {
   "cell_type": "code",
   "execution_count": 12,
   "metadata": {},
   "outputs": [],
   "source": [
    "s_features = torch.cat(f_ss, dim=0).cpu().detach().numpy()\n",
    "s_labels = torch.cat(y_ss, dim=0).cpu().detach().numpy()\n",
    "t_features = torch.cat(f_tt, dim=0).cpu().detach().numpy()"
   ]
  },
  {
   "cell_type": "code",
   "execution_count": 13,
   "metadata": {},
   "outputs": [],
   "source": [
    "import umap\n",
    "\n",
    "mapper = umap.UMAP(random_state=33)\n",
    "source_feature = mapper.fit_transform(s_features)\n",
    "target_feature = mapper.transform(t_features)"
   ]
  },
  {
   "cell_type": "code",
   "execution_count": null,
   "metadata": {},
   "outputs": [],
   "source": [
    "import pandas as pd"
   ]
  },
  {
   "cell_type": "code",
   "execution_count": null,
   "metadata": {},
   "outputs": [],
   "source": [
    "mnist = fetch_mldata(\"MNIST original\")\n",
    "X = mnist.data / 255.0\n",
    "y = mnist.target\n",
    "feat_cols = [ 'pixel' + str(i) for i in range(X.shape[1]) ]\n",
    "df = pd.DataFrame(X,columns=feat_cols)\n",
    "df['y'] = y\n",
    "df['label'] = df['y'].apply(lambda i: str(i)) \n",
    "X, y = None, None\n",
    "np.random.seed(42) \n",
    "rndperm = np.random.permutation(df.shape[0])"
   ]
  },
  {
   "cell_type": "code",
   "execution_count": null,
   "metadata": {},
   "outputs": [],
   "source": [
    "df_mnist = pd.DataFrame({\"0\": source_feature[:, 0], \"1\": source_feature[:, 1]})\n",
    "df_mnist[\"label\"] = \"MNIST\"\n",
    "df_tds = pd.DataFrame({\"0\": target_feature[:, 0], \"1\": target_feature[:, 1]})\n",
    "df_tds[\"label\"] = \"TDS\"\n",
    "df_features = pd.concat([df_mnist, df_tds], ignore_index=True)"
   ]
  },
  {
   "cell_type": "code",
   "execution_count": 10,
   "metadata": {},
   "outputs": [
    {
     "data": {
      "text/plain": [
       "tensor([4, 7, 4,  ..., 0, 4, 4])"
      ]
     },
     "execution_count": 10,
     "metadata": {},
     "output_type": "execute_result"
    }
   ],
   "source": [
    "from matplotlib.offsetbox import OffsetImage, AnnotationBbox\n",
    "\n",
    "pixel_cols = df_subset.columns.str.startswith('pixel')\n",
    "img_w, img_h = 28,28\n",
    "zoom = 0.5\n",
    "\n",
    "fig, ax = plt.subplots(figsize=(16,10))\n",
    "for i,row in df_subset.iterrows():\n",
    "    image = row[pixel_cols].values.astype(float).reshape((img_w, img_h))\n",
    "    im = OffsetImage(image, zoom=zoom)\n",
    "    ab = AnnotationBbox(im, (row[\"tsne-2d-one\"], row[\"tsne-2d-two\"]), xycoords='data', frameon=False)\n",
    "    ax.add_artist(ab)\n",
    "    ax.update_datalim([(row[\"tsne-2d-one\"], row[\"tsne-2d-two\"])])\n",
    "    ax.autoscale()"
   ]
  },
  {
   "cell_type": "code",
   "execution_count": null,
   "metadata": {},
   "outputs": [],
   "source": []
  }
 ],
 "metadata": {
  "kernelspec": {
   "display_name": "medgc-tesis-v2",
   "language": "python",
   "name": "python3"
  },
  "language_info": {
   "codemirror_mode": {
    "name": "ipython",
    "version": 3
   },
   "file_extension": ".py",
   "mimetype": "text/x-python",
   "name": "python",
   "nbconvert_exporter": "python",
   "pygments_lexer": "ipython3",
   "version": "3.9.12"
  },
  "orig_nbformat": 4,
  "vscode": {
   "interpreter": {
    "hash": "3c3cf3c5f2348541057a361b67930d93065ce1f9f2f002f0d2c317eea043c0cc"
   }
  }
 },
 "nbformat": 4,
 "nbformat_minor": 2
}
