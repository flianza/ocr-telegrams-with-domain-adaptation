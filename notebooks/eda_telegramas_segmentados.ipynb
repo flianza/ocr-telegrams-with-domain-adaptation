{
 "cells": [
  {
   "cell_type": "code",
   "execution_count": 1,
   "id": "1bb781db",
   "metadata": {},
   "outputs": [],
   "source": [
    "from PIL import Image\n",
    "import cv2 \n",
    "from IPython.display import display\n",
    "import matplotlib.pyplot as plt\n",
    "import pandas as pd\n",
    "import numpy as np\n",
    "from typing import Iterable\n",
    "\n",
    "def imgshow(img) -> None:\n",
    "    display(Image.fromarray(cv2.cvtColor(img, cv2.COLOR_BGR2RGB)))"
   ]
  },
  {
   "cell_type": "code",
   "execution_count": 2,
   "id": "f942f91b",
   "metadata": {},
   "outputs": [
    {
     "name": "stdout",
     "output_type": "stream",
     "text": [
      "2022-09-07 16:28:40,052 - root - INFO - Updated path to Kedro project: /Users/francolianza/code/medgc-tesis\n",
      "2022-09-07 16:28:40,196 - kedro.framework.session.store - INFO - `read()` not implemented for `BaseSessionStore`. Assuming empty store.\n"
     ]
    },
    {
     "name": "stderr",
     "output_type": "stream",
     "text": [
      "/Users/francolianza/miniforge3/envs/domain-adaptation/lib/python3.9/site-packages/kedro/framework/context/context.py:333: UserWarning: Credentials not found in your Kedro project config.\n",
      "No files found in ['/Users/francolianza/code/medgc-tesis/conf/base', '/Users/francolianza/code/medgc-tesis/conf/local'] matching the glob pattern(s): ['credentials*', 'credentials*/**', '**/credentials*']\n",
      "  warn(f\"Credentials not found in your Kedro project config.\\n{str(exc)}\")\n",
      "/Users/francolianza/miniforge3/envs/domain-adaptation/lib/python3.9/site-packages/tllib-0.4-py3.9.egg/tllib/alignment/cdan.py:134: DeprecationWarning: invalid escape sequence \\o\n",
      "/Users/francolianza/miniforge3/envs/domain-adaptation/lib/python3.9/site-packages/tllib-0.4-py3.9.egg/tllib/alignment/cdan.py:134: DeprecationWarning: invalid escape sequence \\o\n",
      "/Users/francolianza/miniforge3/envs/domain-adaptation/lib/python3.9/site-packages/tqdm/auto.py:22: TqdmWarning: IProgress not found. Please update jupyter and ipywidgets. See https://ipywidgets.readthedocs.io/en/stable/user_install.html\n",
      "  from .autonotebook import tqdm as notebook_tqdm\n",
      "/Users/francolianza/miniforge3/envs/domain-adaptation/lib/python3.9/site-packages/tllib-0.4-py3.9.egg/tllib/modules/grl.py:34: DeprecationWarning: invalid escape sequence \\m\n",
      "/Users/francolianza/miniforge3/envs/domain-adaptation/lib/python3.9/site-packages/tllib-0.4-py3.9.egg/tllib/modules/grl.py:34: DeprecationWarning: invalid escape sequence \\m\n",
      "/Users/francolianza/miniforge3/envs/domain-adaptation/lib/python3.9/site-packages/tllib-0.4-py3.9.egg/tllib/alignment/mdd.py:266: DeprecationWarning: invalid escape sequence \\l\n",
      "/Users/francolianza/miniforge3/envs/domain-adaptation/lib/python3.9/site-packages/tllib-0.4-py3.9.egg/tllib/alignment/mdd.py:266: DeprecationWarning: invalid escape sequence \\l\n"
     ]
    },
    {
     "name": "stdout",
     "output_type": "stream",
     "text": [
      "2022-09-07 16:28:41,481 - root - INFO - ** Kedro project MEDGC Tesis\n",
      "2022-09-07 16:28:41,482 - root - INFO - Defined global variable `context`, `session`, `catalog` and `pipelines`\n"
     ]
    }
   ],
   "source": [
    "%load_ext kedro.extras.extensions.ipython"
   ]
  },
  {
   "cell_type": "code",
   "execution_count": 3,
   "id": "b15f5d9e",
   "metadata": {},
   "outputs": [
    {
     "name": "stdout",
     "output_type": "stream",
     "text": [
      "2022-09-07 16:28:41,501 - kedro.io.data_catalog - INFO - Loading data from `telegramas_segmentados` (PickleDataSet)...\n"
     ]
    }
   ],
   "source": [
    "telegramas = catalog.load('telegramas_segmentados')"
   ]
  },
  {
   "cell_type": "code",
   "execution_count": 4,
   "id": "a33140de",
   "metadata": {},
   "outputs": [
    {
     "data": {
      "text/plain": [
       "8012"
      ]
     },
     "execution_count": 4,
     "metadata": {},
     "output_type": "execute_result"
    }
   ],
   "source": [
    "len(telegramas)"
   ]
  },
  {
   "cell_type": "markdown",
   "id": "a801da35",
   "metadata": {},
   "source": [
    "Originalmente hay 8188 telegramas, pero fallaron algunos en la segmentacion de los digitos"
   ]
  },
  {
   "cell_type": "code",
   "execution_count": 5,
   "id": "7ae14abe",
   "metadata": {},
   "outputs": [
    {
     "data": {
      "text/plain": [
       "0.978505129457743"
      ]
     },
     "execution_count": 5,
     "metadata": {},
     "output_type": "execute_result"
    }
   ],
   "source": [
    "len(telegramas) / 8188"
   ]
  },
  {
   "cell_type": "markdown",
   "id": "6eb60631",
   "metadata": {},
   "source": [
    "Aun asi, tenemos el 98% de los telegramas.\n",
    "\n",
    "Ahora tenemos que:\n",
    "- chequear que no tengamos 2 o mas digitos segmentados como uno\n",
    "- detectar los \"-\" que a veces se usa para denotar que no hay votos\n",
    "- chequear que para todos los telegramas, tengamos 9 filas (los partidos politicos que hay en santa fe)"
   ]
  },
  {
   "cell_type": "code",
   "execution_count": 6,
   "id": "6746ee5c",
   "metadata": {},
   "outputs": [],
   "source": [
    "digitos = []\n",
    "for telegrama in telegramas:\n",
    "    votos = telegrama['votos']\n",
    "    for voto in votos:\n",
    "        digitos += [digito for digito in voto['diputados']]\n",
    "        digitos += [digito for digito in voto['senadores']]\n",
    "digitos = np.array(digitos, dtype=object)"
   ]
  },
  {
   "cell_type": "code",
   "execution_count": 7,
   "id": "d633cb4d",
   "metadata": {},
   "outputs": [
    {
     "data": {
      "text/plain": [
       "41.44682975536695"
      ]
     },
     "execution_count": 7,
     "metadata": {},
     "output_type": "execute_result"
    }
   ],
   "source": [
    "len(digitos) / len(telegramas)"
   ]
  },
  {
   "cell_type": "markdown",
   "id": "534f7dee",
   "metadata": {},
   "source": [
    "Tenemos aprox 40 digitos por telegrama."
   ]
  },
  {
   "cell_type": "code",
   "execution_count": 8,
   "id": "adde8c9d",
   "metadata": {},
   "outputs": [
    {
     "data": {
      "text/plain": [
       "(35, 35)"
      ]
     },
     "execution_count": 8,
     "metadata": {},
     "output_type": "execute_result"
    }
   ],
   "source": [
    "digitos[0].shape"
   ]
  },
  {
   "cell_type": "markdown",
   "id": "c40230e9",
   "metadata": {},
   "source": [
    "Los digitos son cuadrados. Vamos a estimar la distribucion del shape para ver si encontramos algun digito raro"
   ]
  },
  {
   "cell_type": "code",
   "execution_count": 9,
   "id": "ccb706b4",
   "metadata": {},
   "outputs": [],
   "source": [
    "id_telegrama = []\n",
    "tipo = []\n",
    "digitos = []\n",
    "partido = []\n",
    "partidos = {\n",
    "    0: 'unite',\n",
    "    1: 'frente amplio progresista',\n",
    "    2: 'fit',\n",
    "    3: 'juntos',\n",
    "    4: 'primero santa fe',\n",
    "    5: 'somos futuro',\n",
    "    6: 'podemos',\n",
    "    7: 'soberania popular',\n",
    "    8: 'frente de todos'\n",
    "}\n",
    "\n",
    "for telegrama in telegramas:\n",
    "    for idx, votos in enumerate(telegrama['votos']):\n",
    "        id_telegrama.append(telegrama['nombre'])\n",
    "        tipo.append('senadores')\n",
    "        partido.append(partidos.get(idx, None))\n",
    "        digitos.append(votos['senadores'])\n",
    "        \n",
    "        id_telegrama.append(telegrama['nombre'])\n",
    "        tipo.append('diputados')\n",
    "        partido.append(partidos.get(idx, None))\n",
    "        digitos.append(votos['diputados'])\n",
    "        \n",
    "df = pd.DataFrame({\n",
    "    'id_telegrama': id_telegrama,\n",
    "    'partido': partido,\n",
    "    'tipo': tipo,\n",
    "    'digitos': digitos\n",
    "})"
   ]
  },
  {
   "cell_type": "code",
   "execution_count": 10,
   "id": "593f04e4",
   "metadata": {
    "scrolled": true
   },
   "outputs": [
    {
     "data": {
      "text/html": [
       "<div>\n",
       "<style scoped>\n",
       "    .dataframe tbody tr th:only-of-type {\n",
       "        vertical-align: middle;\n",
       "    }\n",
       "\n",
       "    .dataframe tbody tr th {\n",
       "        vertical-align: top;\n",
       "    }\n",
       "\n",
       "    .dataframe thead th {\n",
       "        text-align: right;\n",
       "    }\n",
       "</style>\n",
       "<table border=\"1\" class=\"dataframe\">\n",
       "  <thead>\n",
       "    <tr style=\"text-align: right;\">\n",
       "      <th></th>\n",
       "      <th>id_telegrama</th>\n",
       "      <th>partido</th>\n",
       "      <th>tipo</th>\n",
       "      <th>digitos</th>\n",
       "    </tr>\n",
       "  </thead>\n",
       "  <tbody>\n",
       "    <tr>\n",
       "      <th>0</th>\n",
       "      <td>2100100001X</td>\n",
       "      <td>unite</td>\n",
       "      <td>senadores</td>\n",
       "      <td>[[[255, 255, 255, 255, 255, 255, 242, 167, 255...</td>\n",
       "    </tr>\n",
       "    <tr>\n",
       "      <th>1</th>\n",
       "      <td>2100100001X</td>\n",
       "      <td>unite</td>\n",
       "      <td>diputados</td>\n",
       "      <td>[[[255, 255, 255, 255, 255, 255, 255, 255, 255...</td>\n",
       "    </tr>\n",
       "    <tr>\n",
       "      <th>2</th>\n",
       "      <td>2100100001X</td>\n",
       "      <td>frente amplio progresista</td>\n",
       "      <td>senadores</td>\n",
       "      <td>[[[255, 255, 255, 255, 255, 255, 255, 255, 255...</td>\n",
       "    </tr>\n",
       "    <tr>\n",
       "      <th>3</th>\n",
       "      <td>2100100001X</td>\n",
       "      <td>frente amplio progresista</td>\n",
       "      <td>diputados</td>\n",
       "      <td>[[[255, 255, 255, 255, 255, 255, 255, 255, 255...</td>\n",
       "    </tr>\n",
       "    <tr>\n",
       "      <th>4</th>\n",
       "      <td>2100100001X</td>\n",
       "      <td>fit</td>\n",
       "      <td>senadores</td>\n",
       "      <td>[[[255, 255, 255, 255, 255, 255, 255, 255, 255...</td>\n",
       "    </tr>\n",
       "  </tbody>\n",
       "</table>\n",
       "</div>"
      ],
      "text/plain": [
       "  id_telegrama                    partido       tipo  \\\n",
       "0  2100100001X                      unite  senadores   \n",
       "1  2100100001X                      unite  diputados   \n",
       "2  2100100001X  frente amplio progresista  senadores   \n",
       "3  2100100001X  frente amplio progresista  diputados   \n",
       "4  2100100001X                        fit  senadores   \n",
       "\n",
       "                                             digitos  \n",
       "0  [[[255, 255, 255, 255, 255, 255, 242, 167, 255...  \n",
       "1  [[[255, 255, 255, 255, 255, 255, 255, 255, 255...  \n",
       "2  [[[255, 255, 255, 255, 255, 255, 255, 255, 255...  \n",
       "3  [[[255, 255, 255, 255, 255, 255, 255, 255, 255...  \n",
       "4  [[[255, 255, 255, 255, 255, 255, 255, 255, 255...  "
      ]
     },
     "execution_count": 10,
     "metadata": {},
     "output_type": "execute_result"
    }
   ],
   "source": [
    "df.head()"
   ]
  },
  {
   "cell_type": "code",
   "execution_count": 11,
   "id": "c575fed1",
   "metadata": {},
   "outputs": [
    {
     "data": {
      "text/plain": [
       "count          144128\n",
       "unique           8012\n",
       "top       2100100001X\n",
       "freq               18\n",
       "Name: id_telegrama, dtype: object"
      ]
     },
     "execution_count": 11,
     "metadata": {},
     "output_type": "execute_result"
    }
   ],
   "source": [
    "df.id_telegrama.describe()"
   ]
  },
  {
   "cell_type": "code",
   "execution_count": 12,
   "id": "db02446f",
   "metadata": {
    "scrolled": true
   },
   "outputs": [
    {
     "data": {
      "text/plain": [
       "unite                        16024\n",
       "frente amplio progresista    16024\n",
       "fit                          16024\n",
       "juntos                       16024\n",
       "primero santa fe             16024\n",
       "somos futuro                 16024\n",
       "podemos                      16024\n",
       "soberania popular            16024\n",
       "frente de todos              15936\n",
       "Name: partido, dtype: int64"
      ]
     },
     "execution_count": 12,
     "metadata": {},
     "output_type": "execute_result"
    }
   ],
   "source": [
    "df.partido.value_counts()"
   ]
  },
  {
   "cell_type": "markdown",
   "id": "3da9da07",
   "metadata": {},
   "source": [
    "Ya vemos que hay algo mal porque el frente de todos (el ultimo) no tiene la misma cantidad de votos que el resto."
   ]
  },
  {
   "cell_type": "code",
   "execution_count": 13,
   "id": "799fb420",
   "metadata": {},
   "outputs": [],
   "source": [
    "def proporcion_pixeles_blancos(digito: np.ndarray) -> float:\n",
    "    return np.sum(digito) / (digito.shape[0] ** 2 * 255)"
   ]
  },
  {
   "cell_type": "code",
   "execution_count": 14,
   "id": "14de4bc9",
   "metadata": {},
   "outputs": [],
   "source": [
    "def calcular_indicadores_digitos(df: pd.DataFrame) -> pd.DataFrame:\n",
    "    df['cant_digitos'] = df.digitos.apply(lambda digitos: len(digitos))\n",
    "    df['min_size_digitos'] = df.digitos.apply(lambda digitos: np.min([digito.shape[0] for digito in digitos] + [np.inf]))\n",
    "    df['max_size_digitos'] = df.digitos.apply(lambda digitos: np.max([digito.shape[0] for digito in digitos] + [-np.inf]))\n",
    "    df['min_prop_blanco_digitos'] = df.digitos.apply(lambda digitos: np.min([proporcion_pixeles_blancos(digito) for digito in digitos] + [np.inf]))\n",
    "    df['max_prop_blanco_digitos'] = df.digitos.apply(lambda digitos: np.max([proporcion_pixeles_blancos(digito) for digito in digitos] + [-np.inf]))\n",
    "\n",
    "    return df.replace([np.inf, -np.inf], np.nan)"
   ]
  },
  {
   "cell_type": "code",
   "execution_count": 15,
   "id": "ed986f06",
   "metadata": {},
   "outputs": [],
   "source": [
    "df = calcular_indicadores_digitos(df)"
   ]
  },
  {
   "cell_type": "code",
   "execution_count": 16,
   "id": "0d003ce4",
   "metadata": {
    "scrolled": false
   },
   "outputs": [
    {
     "data": {
      "text/html": [
       "<div>\n",
       "<style scoped>\n",
       "    .dataframe tbody tr th:only-of-type {\n",
       "        vertical-align: middle;\n",
       "    }\n",
       "\n",
       "    .dataframe tbody tr th {\n",
       "        vertical-align: top;\n",
       "    }\n",
       "\n",
       "    .dataframe thead th {\n",
       "        text-align: right;\n",
       "    }\n",
       "</style>\n",
       "<table border=\"1\" class=\"dataframe\">\n",
       "  <thead>\n",
       "    <tr style=\"text-align: right;\">\n",
       "      <th></th>\n",
       "      <th>id_telegrama</th>\n",
       "      <th>partido</th>\n",
       "      <th>tipo</th>\n",
       "      <th>digitos</th>\n",
       "      <th>cant_digitos</th>\n",
       "      <th>min_size_digitos</th>\n",
       "      <th>max_size_digitos</th>\n",
       "      <th>min_prop_blanco_digitos</th>\n",
       "      <th>max_prop_blanco_digitos</th>\n",
       "    </tr>\n",
       "  </thead>\n",
       "  <tbody>\n",
       "    <tr>\n",
       "      <th>0</th>\n",
       "      <td>2100100001X</td>\n",
       "      <td>unite</td>\n",
       "      <td>senadores</td>\n",
       "      <td>[[[255, 255, 255, 255, 255, 255, 242, 167, 255...</td>\n",
       "      <td>1</td>\n",
       "      <td>36.0</td>\n",
       "      <td>36.0</td>\n",
       "      <td>0.823230</td>\n",
       "      <td>0.823230</td>\n",
       "    </tr>\n",
       "    <tr>\n",
       "      <th>1</th>\n",
       "      <td>2100100001X</td>\n",
       "      <td>unite</td>\n",
       "      <td>diputados</td>\n",
       "      <td>[[[255, 255, 255, 255, 255, 255, 255, 255, 255...</td>\n",
       "      <td>1</td>\n",
       "      <td>35.0</td>\n",
       "      <td>35.0</td>\n",
       "      <td>0.744983</td>\n",
       "      <td>0.744983</td>\n",
       "    </tr>\n",
       "    <tr>\n",
       "      <th>2</th>\n",
       "      <td>2100100001X</td>\n",
       "      <td>frente amplio progresista</td>\n",
       "      <td>senadores</td>\n",
       "      <td>[[[255, 255, 255, 255, 255, 255, 255, 255, 255...</td>\n",
       "      <td>1</td>\n",
       "      <td>34.0</td>\n",
       "      <td>34.0</td>\n",
       "      <td>0.764645</td>\n",
       "      <td>0.764645</td>\n",
       "    </tr>\n",
       "    <tr>\n",
       "      <th>3</th>\n",
       "      <td>2100100001X</td>\n",
       "      <td>frente amplio progresista</td>\n",
       "      <td>diputados</td>\n",
       "      <td>[[[255, 255, 255, 255, 255, 255, 255, 255, 255...</td>\n",
       "      <td>1</td>\n",
       "      <td>31.0</td>\n",
       "      <td>31.0</td>\n",
       "      <td>0.700590</td>\n",
       "      <td>0.700590</td>\n",
       "    </tr>\n",
       "    <tr>\n",
       "      <th>4</th>\n",
       "      <td>2100100001X</td>\n",
       "      <td>fit</td>\n",
       "      <td>senadores</td>\n",
       "      <td>[[[255, 255, 255, 255, 255, 255, 255, 255, 255...</td>\n",
       "      <td>1</td>\n",
       "      <td>39.0</td>\n",
       "      <td>39.0</td>\n",
       "      <td>0.700772</td>\n",
       "      <td>0.700772</td>\n",
       "    </tr>\n",
       "  </tbody>\n",
       "</table>\n",
       "</div>"
      ],
      "text/plain": [
       "  id_telegrama                    partido       tipo  \\\n",
       "0  2100100001X                      unite  senadores   \n",
       "1  2100100001X                      unite  diputados   \n",
       "2  2100100001X  frente amplio progresista  senadores   \n",
       "3  2100100001X  frente amplio progresista  diputados   \n",
       "4  2100100001X                        fit  senadores   \n",
       "\n",
       "                                             digitos  cant_digitos  \\\n",
       "0  [[[255, 255, 255, 255, 255, 255, 242, 167, 255...             1   \n",
       "1  [[[255, 255, 255, 255, 255, 255, 255, 255, 255...             1   \n",
       "2  [[[255, 255, 255, 255, 255, 255, 255, 255, 255...             1   \n",
       "3  [[[255, 255, 255, 255, 255, 255, 255, 255, 255...             1   \n",
       "4  [[[255, 255, 255, 255, 255, 255, 255, 255, 255...             1   \n",
       "\n",
       "   min_size_digitos  max_size_digitos  min_prop_blanco_digitos  \\\n",
       "0              36.0              36.0                 0.823230   \n",
       "1              35.0              35.0                 0.744983   \n",
       "2              34.0              34.0                 0.764645   \n",
       "3              31.0              31.0                 0.700590   \n",
       "4              39.0              39.0                 0.700772   \n",
       "\n",
       "   max_prop_blanco_digitos  \n",
       "0                 0.823230  \n",
       "1                 0.744983  \n",
       "2                 0.764645  \n",
       "3                 0.700590  \n",
       "4                 0.700772  "
      ]
     },
     "execution_count": 16,
     "metadata": {},
     "output_type": "execute_result"
    }
   ],
   "source": [
    "df.head()"
   ]
  },
  {
   "cell_type": "code",
   "execution_count": 17,
   "id": "55bfa57e",
   "metadata": {},
   "outputs": [
    {
     "name": "stdout",
     "output_type": "stream",
     "text": [
      "==============unite - senadores==============\n"
     ]
    },
    {
     "data": {
      "image/png": "[encoded data removed]",
      "text/plain": [
       "<PIL.Image.Image image mode=RGB size=32x32>"
      ]
     },
     "metadata": {},
     "output_type": "display_data"
    },
    {
     "data": {
      "image/png": "[encoded data removed]",
      "text/plain": [
       "<PIL.Image.Image image mode=RGB size=26x26>"
      ]
     },
     "metadata": {},
     "output_type": "display_data"
    },
    {
     "data": {
      "image/png": "[encoded data removed]",
      "text/plain": [
       "<PIL.Image.Image image mode=RGB size=33x33>"
      ]
     },
     "metadata": {},
     "output_type": "display_data"
    },
    {
     "name": "stdout",
     "output_type": "stream",
     "text": [
      "==============unite - diputados==============\n"
     ]
    },
    {
     "data": {
      "image/png": "[encoded data removed]",
      "text/plain": [
       "<PIL.Image.Image image mode=RGB size=199x199>"
      ]
     },
     "metadata": {},
     "output_type": "display_data"
    },
    {
     "data": {
      "image/png": "[encoded data removed]",
      "text/plain": [
       "<PIL.Image.Image image mode=RGB size=28x28>"
      ]
     },
     "metadata": {},
     "output_type": "display_data"
    },
    {
     "data": {
      "image/png": "[encoded data removed]",
      "text/plain": [
       "<PIL.Image.Image image mode=RGB size=29x29>"
      ]
     },
     "metadata": {},
     "output_type": "display_data"
    },
    {
     "data": {
      "image/png": "[encoded data removed]",
      "text/plain": [
       "<PIL.Image.Image image mode=RGB size=32x32>"
      ]
     },
     "metadata": {},
     "output_type": "display_data"
    },
    {
     "name": "stdout",
     "output_type": "stream",
     "text": [
      "==============frente amplio progresista - senadores==============\n"
     ]
    },
    {
     "data": {
      "image/png": "[encoded data removed]",
      "text/plain": [
       "<PIL.Image.Image image mode=RGB size=36x36>"
      ]
     },
     "metadata": {},
     "output_type": "display_data"
    },
    {
     "data": {
      "image/png": "[encoded data removed]",
      "text/plain": [
       "<PIL.Image.Image image mode=RGB size=31x31>"
      ]
     },
     "metadata": {},
     "output_type": "display_data"
    },
    {
     "data": {
      "image/png": "[encoded data removed]",
      "text/plain": [
       "<PIL.Image.Image image mode=RGB size=30x30>"
      ]
     },
     "metadata": {},
     "output_type": "display_data"
    },
    {
     "name": "stdout",
     "output_type": "stream",
     "text": [
      "==============frente amplio progresista - diputados==============\n"
     ]
    },
    {
     "data": {
      "image/png": "[encoded data removed]",
      "text/plain": [
       "<PIL.Image.Image image mode=RGB size=194x194>"
      ]
     },
     "metadata": {},
     "output_type": "display_data"
    },
    {
     "data": {
      "image/png": "[encoded data removed]",
      "text/plain": [
       "<PIL.Image.Image image mode=RGB size=31x31>"
      ]
     },
     "metadata": {},
     "output_type": "display_data"
    },
    {
     "data": {
      "image/png": "[encoded data removed]",
      "text/plain": [
       "<PIL.Image.Image image mode=RGB size=26x26>"
      ]
     },
     "metadata": {},
     "output_type": "display_data"
    },
    {
     "data": {
      "image/png": "[encoded data removed]",
      "text/plain": [
       "<PIL.Image.Image image mode=RGB size=38x38>"
      ]
     },
     "metadata": {},
     "output_type": "display_data"
    },
    {
     "name": "stdout",
     "output_type": "stream",
     "text": [
      "==============fit - senadores==============\n"
     ]
    },
    {
     "data": {
      "image/png": "[encoded data removed]",
      "text/plain": [
       "<PIL.Image.Image image mode=RGB size=35x35>"
      ]
     },
     "metadata": {},
     "output_type": "display_data"
    },
    {
     "data": {
      "image/png": "[encoded data removed]",
      "text/plain": [
       "<PIL.Image.Image image mode=RGB size=31x31>"
      ]
     },
     "metadata": {},
     "output_type": "display_data"
    },
    {
     "name": "stdout",
     "output_type": "stream",
     "text": [
      "==============fit - diputados==============\n"
     ]
    },
    {
     "data": {
      "image/png": "[encoded data removed]",
      "text/plain": [
       "<PIL.Image.Image image mode=RGB size=33x33>"
      ]
     },
     "metadata": {},
     "output_type": "display_data"
    },
    {
     "data": {
      "image/png": "[encoded data removed]",
      "text/plain": [
       "<PIL.Image.Image image mode=RGB size=126x126>"
      ]
     },
     "metadata": {},
     "output_type": "display_data"
    },
    {
     "data": {
      "image/png": "[encoded data removed]",
      "text/plain": [
       "<PIL.Image.Image image mode=RGB size=29x29>"
      ]
     },
     "metadata": {},
     "output_type": "display_data"
    },
    {
     "data": {
      "image/png": "[encoded data removed]",
      "text/plain": [
       "<PIL.Image.Image image mode=RGB size=31x31>"
      ]
     },
     "metadata": {},
     "output_type": "display_data"
    },
    {
     "name": "stdout",
     "output_type": "stream",
     "text": [
      "==============juntos - senadores==============\n"
     ]
    },
    {
     "data": {
      "image/png": "[encoded data removed]",
      "text/plain": [
       "<PIL.Image.Image image mode=RGB size=38x38>"
      ]
     },
     "metadata": {},
     "output_type": "display_data"
    },
    {
     "data": {
      "image/png": "[encoded data removed]",
      "text/plain": [
       "<PIL.Image.Image image mode=RGB size=35x35>"
      ]
     },
     "metadata": {},
     "output_type": "display_data"
    },
    {
     "data": {
      "image/png": "[encoded data removed]",
      "text/plain": [
       "<PIL.Image.Image image mode=RGB size=38x38>"
      ]
     },
     "metadata": {},
     "output_type": "display_data"
    },
    {
     "name": "stdout",
     "output_type": "stream",
     "text": [
      "==============juntos - diputados==============\n"
     ]
    },
    {
     "data": {
      "image/png": "[encoded data removed]",
      "text/plain": [
       "<PIL.Image.Image image mode=RGB size=34x34>"
      ]
     },
     "metadata": {},
     "output_type": "display_data"
    },
    {
     "data": {
      "image/png": "[encoded data removed]",
      "text/plain": [
       "<PIL.Image.Image image mode=RGB size=35x35>"
      ]
     },
     "metadata": {},
     "output_type": "display_data"
    },
    {
     "data": {
      "image/png": "[encoded data removed]",
      "text/plain": [
       "<PIL.Image.Image image mode=RGB size=32x32>"
      ]
     },
     "metadata": {},
     "output_type": "display_data"
    },
    {
     "name": "stdout",
     "output_type": "stream",
     "text": [
      "==============primero santa fe - senadores==============\n"
     ]
    },
    {
     "data": {
      "image/png": "[encoded data removed]",
      "text/plain": [
       "<PIL.Image.Image image mode=RGB size=40x40>"
      ]
     },
     "metadata": {},
     "output_type": "display_data"
    },
    {
     "data": {
      "image/png": "[encoded data removed]",
      "text/plain": [
       "<PIL.Image.Image image mode=RGB size=32x32>"
      ]
     },
     "metadata": {},
     "output_type": "display_data"
    },
    {
     "data": {
      "image/png": "[encoded data removed]",
      "text/plain": [
       "<PIL.Image.Image image mode=RGB size=37x37>"
      ]
     },
     "metadata": {},
     "output_type": "display_data"
    },
    {
     "name": "stdout",
     "output_type": "stream",
     "text": [
      "==============primero santa fe - diputados==============\n"
     ]
    },
    {
     "data": {
      "image/png": "[encoded data removed]",
      "text/plain": [
       "<PIL.Image.Image image mode=RGB size=35x35>"
      ]
     },
     "metadata": {},
     "output_type": "display_data"
    },
    {
     "data": {
      "image/png": "[encoded data removed]",
      "text/plain": [
       "<PIL.Image.Image image mode=RGB size=32x32>"
      ]
     },
     "metadata": {},
     "output_type": "display_data"
    },
    {
     "data": {
      "image/png": "[encoded data removed]",
      "text/plain": [
       "<PIL.Image.Image image mode=RGB size=36x36>"
      ]
     },
     "metadata": {},
     "output_type": "display_data"
    },
    {
     "name": "stdout",
     "output_type": "stream",
     "text": [
      "==============somos futuro - senadores==============\n"
     ]
    },
    {
     "data": {
      "image/png": "[encoded data removed]",
      "text/plain": [
       "<PIL.Image.Image image mode=RGB size=34x34>"
      ]
     },
     "metadata": {},
     "output_type": "display_data"
    },
    {
     "data": {
      "image/png": "[encoded data removed]",
      "text/plain": [
       "<PIL.Image.Image image mode=RGB size=29x29>"
      ]
     },
     "metadata": {},
     "output_type": "display_data"
    },
    {
     "data": {
      "image/png": "[encoded data removed]",
      "text/plain": [
       "<PIL.Image.Image image mode=RGB size=34x34>"
      ]
     },
     "metadata": {},
     "output_type": "display_data"
    },
    {
     "name": "stdout",
     "output_type": "stream",
     "text": [
      "==============somos futuro - diputados==============\n"
     ]
    },
    {
     "data": {
      "image/png": "[encoded data removed]",
      "text/plain": [
       "<PIL.Image.Image image mode=RGB size=33x33>"
      ]
     },
     "metadata": {},
     "output_type": "display_data"
    },
    {
     "data": {
      "image/png": "[encoded data removed]",
      "text/plain": [
       "<PIL.Image.Image image mode=RGB size=28x28>"
      ]
     },
     "metadata": {},
     "output_type": "display_data"
    },
    {
     "data": {
      "image/png": "[encoded data removed]",
      "text/plain": [
       "<PIL.Image.Image image mode=RGB size=37x37>"
      ]
     },
     "metadata": {},
     "output_type": "display_data"
    },
    {
     "name": "stdout",
     "output_type": "stream",
     "text": [
      "==============podemos - senadores==============\n"
     ]
    },
    {
     "data": {
      "image/png": "[encoded data removed]",
      "text/plain": [
       "<PIL.Image.Image image mode=RGB size=32x32>"
      ]
     },
     "metadata": {},
     "output_type": "display_data"
    },
    {
     "data": {
      "image/png": "[encoded data removed]",
      "text/plain": [
       "<PIL.Image.Image image mode=RGB size=30x30>"
      ]
     },
     "metadata": {},
     "output_type": "display_data"
    },
    {
     "data": {
      "image/png": "[encoded data removed]",
      "text/plain": [
       "<PIL.Image.Image image mode=RGB size=32x32>"
      ]
     },
     "metadata": {},
     "output_type": "display_data"
    },
    {
     "name": "stdout",
     "output_type": "stream",
     "text": [
      "==============podemos - diputados==============\n"
     ]
    },
    {
     "data": {
      "image/png": "[encoded data removed]",
      "text/plain": [
       "<PIL.Image.Image image mode=RGB size=38x38>"
      ]
     },
     "metadata": {},
     "output_type": "display_data"
    },
    {
     "data": {
      "image/png": "[encoded data removed]",
      "text/plain": [
       "<PIL.Image.Image image mode=RGB size=35x35>"
      ]
     },
     "metadata": {},
     "output_type": "display_data"
    },
    {
     "data": {
      "image/png": "[encoded data removed]",
      "text/plain": [
       "<PIL.Image.Image image mode=RGB size=34x34>"
      ]
     },
     "metadata": {},
     "output_type": "display_data"
    },
    {
     "name": "stdout",
     "output_type": "stream",
     "text": [
      "==============soberania popular - senadores==============\n"
     ]
    },
    {
     "data": {
      "image/png": "[encoded data removed]",
      "text/plain": [
       "<PIL.Image.Image image mode=RGB size=35x35>"
      ]
     },
     "metadata": {},
     "output_type": "display_data"
    },
    {
     "data": {
      "image/png": "[encoded data removed]",
      "text/plain": [
       "<PIL.Image.Image image mode=RGB size=33x33>"
      ]
     },
     "metadata": {},
     "output_type": "display_data"
    },
    {
     "data": {
      "image/png": "[encoded data removed]",
      "text/plain": [
       "<PIL.Image.Image image mode=RGB size=35x35>"
      ]
     },
     "metadata": {},
     "output_type": "display_data"
    },
    {
     "name": "stdout",
     "output_type": "stream",
     "text": [
      "==============soberania popular - diputados==============\n"
     ]
    },
    {
     "data": {
      "image/png": "[encoded data removed]",
      "text/plain": [
       "<PIL.Image.Image image mode=RGB size=31x31>"
      ]
     },
     "metadata": {},
     "output_type": "display_data"
    },
    {
     "data": {
      "image/png": "[encoded data removed]",
      "text/plain": [
       "<PIL.Image.Image image mode=RGB size=31x31>"
      ]
     },
     "metadata": {},
     "output_type": "display_data"
    },
    {
     "data": {
      "image/png": "[encoded data removed]",
      "text/plain": [
       "<PIL.Image.Image image mode=RGB size=26x26>"
      ]
     },
     "metadata": {},
     "output_type": "display_data"
    },
    {
     "name": "stdout",
     "output_type": "stream",
     "text": [
      "==============frente de todos - senadores==============\n"
     ]
    },
    {
     "data": {
      "image/png": "[encoded data removed]",
      "text/plain": [
       "<PIL.Image.Image image mode=RGB size=38x38>"
      ]
     },
     "metadata": {},
     "output_type": "display_data"
    },
    {
     "data": {
      "image/png": "[encoded data removed]",
      "text/plain": [
       "<PIL.Image.Image image mode=RGB size=32x32>"
      ]
     },
     "metadata": {},
     "output_type": "display_data"
    },
    {
     "data": {
      "image/png": "[encoded data removed]",
      "text/plain": [
       "<PIL.Image.Image image mode=RGB size=27x27>"
      ]
     },
     "metadata": {},
     "output_type": "display_data"
    },
    {
     "name": "stdout",
     "output_type": "stream",
     "text": [
      "==============frente de todos - diputados==============\n"
     ]
    },
    {
     "data": {
      "image/png": "[encoded data removed]",
      "text/plain": [
       "<PIL.Image.Image image mode=RGB size=31x31>"
      ]
     },
     "metadata": {},
     "output_type": "display_data"
    },
    {
     "data": {
      "image/png": "[encoded data removed]",
      "text/plain": [
       "<PIL.Image.Image image mode=RGB size=31x31>"
      ]
     },
     "metadata": {},
     "output_type": "display_data"
    },
    {
     "data": {
      "image/png": "[encoded data removed]",
      "text/plain": [
       "<PIL.Image.Image image mode=RGB size=34x34>"
      ]
     },
     "metadata": {},
     "output_type": "display_data"
    }
   ],
   "source": [
    "for x in df.query(\"id_telegrama == '2100100026X'\").itertuples():\n",
    "    print(f\"=============={x.partido} - {x.tipo}==============\")\n",
    "    for digito in x.digitos:\n",
    "        imgshow(digito)"
   ]
  },
  {
   "cell_type": "code",
   "execution_count": 18,
   "id": "af6b8ae1",
   "metadata": {},
   "outputs": [],
   "source": [
    "def plot_dos_histogramas(df: pd.DataFrame, col1: str, col2: str) -> None:\n",
    "    fig, ax = plt.subplots(ncols=2, figsize=(15, 5))\n",
    "    df[col1].hist(bins=100, ax=ax[0])\n",
    "    ax[0].set_title(col1)\n",
    "\n",
    "    df[col2].hist(bins=100, ax=ax[1])\n",
    "    ax[1].set_title(col2)\n",
    "    plt.show()"
   ]
  },
  {
   "cell_type": "code",
   "execution_count": 19,
   "id": "e4867f33",
   "metadata": {},
   "outputs": [
    {
     "data": {
      "image/png": "[encoded data removed]",
      "text/plain": [
       "<Figure size 1080x360 with 2 Axes>"
      ]
     },
     "metadata": {
      "needs_background": "light"
     },
     "output_type": "display_data"
    }
   ],
   "source": [
    "plot_dos_histogramas(df, 'min_prop_blanco_digitos', 'max_prop_blanco_digitos')"
   ]
  },
  {
   "cell_type": "code",
   "execution_count": 20,
   "id": "a6de0b63",
   "metadata": {},
   "outputs": [
    {
     "data": {
      "image/png": "[encoded data removed]",
      "text/plain": [
       "<Figure size 432x288 with 1 Axes>"
      ]
     },
     "metadata": {
      "needs_background": "light"
     },
     "output_type": "display_data"
    }
   ],
   "source": [
    "fig, ax = plt.subplots(figsize=(6, 4))\n",
    "df.min_prop_blanco_digitos.hist(bins=100, ax=ax)\n",
    "ax.set_title(\"Histograma de la mínima propoción de pixeles blancos por voto\")\n",
    "ax.set_ylabel(\"Cantidad\")\n",
    "ax.set_xlabel(\"Mínima proporción de pixeles blancos\")\n",
    "plt.show()"
   ]
  },
  {
   "cell_type": "code",
   "execution_count": 21,
   "id": "4581351c",
   "metadata": {},
   "outputs": [
    {
     "data": {
      "image/png": "[encoded data removed]",
      "text/plain": [
       "<Figure size 432x288 with 1 Axes>"
      ]
     },
     "metadata": {
      "needs_background": "light"
     },
     "output_type": "display_data"
    }
   ],
   "source": [
    "fig, ax = plt.subplots(figsize=(6, 4))\n",
    "df.max_prop_blanco_digitos.hist(bins=100, ax=ax)\n",
    "ax.set_title(\"Histograma de la máxima propoción de pixeles blancos por voto\")\n",
    "ax.set_ylabel(\"Cantidad\")\n",
    "ax.set_xlabel(\"Máxima proporción de pixeles blancos\")\n",
    "plt.show()"
   ]
  },
  {
   "cell_type": "code",
   "execution_count": 22,
   "id": "83a18834",
   "metadata": {
    "scrolled": true
   },
   "outputs": [
    {
     "data": {
      "text/html": [
       "<div>\n",
       "<style scoped>\n",
       "    .dataframe tbody tr th:only-of-type {\n",
       "        vertical-align: middle;\n",
       "    }\n",
       "\n",
       "    .dataframe tbody tr th {\n",
       "        vertical-align: top;\n",
       "    }\n",
       "\n",
       "    .dataframe thead th {\n",
       "        text-align: right;\n",
       "    }\n",
       "</style>\n",
       "<table border=\"1\" class=\"dataframe\">\n",
       "  <thead>\n",
       "    <tr style=\"text-align: right;\">\n",
       "      <th></th>\n",
       "      <th>count</th>\n",
       "      <th>mean</th>\n",
       "      <th>std</th>\n",
       "      <th>min</th>\n",
       "      <th>25%</th>\n",
       "      <th>50%</th>\n",
       "      <th>75%</th>\n",
       "      <th>max</th>\n",
       "    </tr>\n",
       "  </thead>\n",
       "  <tbody>\n",
       "    <tr>\n",
       "      <th>cant_digitos</th>\n",
       "      <td>144128.0</td>\n",
       "      <td>2.304008</td>\n",
       "      <td>0.875747</td>\n",
       "      <td>0.000000</td>\n",
       "      <td>2.000000</td>\n",
       "      <td>3.000000</td>\n",
       "      <td>3.000000</td>\n",
       "      <td>14.000000</td>\n",
       "    </tr>\n",
       "    <tr>\n",
       "      <th>min_size_digitos</th>\n",
       "      <td>143011.0</td>\n",
       "      <td>38.619204</td>\n",
       "      <td>11.240788</td>\n",
       "      <td>7.000000</td>\n",
       "      <td>32.000000</td>\n",
       "      <td>37.000000</td>\n",
       "      <td>43.000000</td>\n",
       "      <td>621.000000</td>\n",
       "    </tr>\n",
       "    <tr>\n",
       "      <th>max_size_digitos</th>\n",
       "      <td>143011.0</td>\n",
       "      <td>47.208208</td>\n",
       "      <td>20.570718</td>\n",
       "      <td>13.000000</td>\n",
       "      <td>38.000000</td>\n",
       "      <td>44.000000</td>\n",
       "      <td>50.000000</td>\n",
       "      <td>621.000000</td>\n",
       "    </tr>\n",
       "    <tr>\n",
       "      <th>min_prop_blanco_digitos</th>\n",
       "      <td>143011.0</td>\n",
       "      <td>0.816328</td>\n",
       "      <td>0.058123</td>\n",
       "      <td>0.102281</td>\n",
       "      <td>0.782906</td>\n",
       "      <td>0.820001</td>\n",
       "      <td>0.855427</td>\n",
       "      <td>0.993352</td>\n",
       "    </tr>\n",
       "    <tr>\n",
       "      <th>max_prop_blanco_digitos</th>\n",
       "      <td>143011.0</td>\n",
       "      <td>0.865408</td>\n",
       "      <td>0.048220</td>\n",
       "      <td>0.267430</td>\n",
       "      <td>0.837606</td>\n",
       "      <td>0.869114</td>\n",
       "      <td>0.896409</td>\n",
       "      <td>0.995205</td>\n",
       "    </tr>\n",
       "  </tbody>\n",
       "</table>\n",
       "</div>"
      ],
      "text/plain": [
       "                            count       mean        std        min        25%  \\\n",
       "cant_digitos             144128.0   2.304008   0.875747   0.000000   2.000000   \n",
       "min_size_digitos         143011.0  38.619204  11.240788   7.000000  32.000000   \n",
       "max_size_digitos         143011.0  47.208208  20.570718  13.000000  38.000000   \n",
       "min_prop_blanco_digitos  143011.0   0.816328   0.058123   0.102281   0.782906   \n",
       "max_prop_blanco_digitos  143011.0   0.865408   0.048220   0.267430   0.837606   \n",
       "\n",
       "                               50%        75%         max  \n",
       "cant_digitos              3.000000   3.000000   14.000000  \n",
       "min_size_digitos         37.000000  43.000000  621.000000  \n",
       "max_size_digitos         44.000000  50.000000  621.000000  \n",
       "min_prop_blanco_digitos   0.820001   0.855427    0.993352  \n",
       "max_prop_blanco_digitos   0.869114   0.896409    0.995205  "
      ]
     },
     "execution_count": 22,
     "metadata": {},
     "output_type": "execute_result"
    }
   ],
   "source": [
    "df.describe().T"
   ]
  },
  {
   "cell_type": "markdown",
   "id": "44b010a0",
   "metadata": {},
   "source": [
    "Me hacen ruido los valores 0.99 en la proporcion de digitos blancos."
   ]
  },
  {
   "cell_type": "code",
   "execution_count": 23,
   "id": "bb38245a",
   "metadata": {},
   "outputs": [],
   "source": [
    "UMBRAL_PROP_BLANCO_MAXIMO = 0.95"
   ]
  },
  {
   "cell_type": "code",
   "execution_count": 24,
   "id": "eaa40a3c",
   "metadata": {},
   "outputs": [
    {
     "data": {
      "text/html": [
       "<div>\n",
       "<style scoped>\n",
       "    .dataframe tbody tr th:only-of-type {\n",
       "        vertical-align: middle;\n",
       "    }\n",
       "\n",
       "    .dataframe tbody tr th {\n",
       "        vertical-align: top;\n",
       "    }\n",
       "\n",
       "    .dataframe thead th {\n",
       "        text-align: right;\n",
       "    }\n",
       "</style>\n",
       "<table border=\"1\" class=\"dataframe\">\n",
       "  <thead>\n",
       "    <tr style=\"text-align: right;\">\n",
       "      <th></th>\n",
       "      <th>count</th>\n",
       "      <th>mean</th>\n",
       "      <th>std</th>\n",
       "      <th>min</th>\n",
       "      <th>25%</th>\n",
       "      <th>50%</th>\n",
       "      <th>75%</th>\n",
       "      <th>max</th>\n",
       "    </tr>\n",
       "  </thead>\n",
       "  <tbody>\n",
       "    <tr>\n",
       "      <th>cant_digitos</th>\n",
       "      <td>3683.0</td>\n",
       "      <td>2.944339</td>\n",
       "      <td>1.131206</td>\n",
       "      <td>1.000000</td>\n",
       "      <td>2.000000</td>\n",
       "      <td>3.000000</td>\n",
       "      <td>4.000000</td>\n",
       "      <td>9.000000</td>\n",
       "    </tr>\n",
       "    <tr>\n",
       "      <th>min_size_digitos</th>\n",
       "      <td>3683.0</td>\n",
       "      <td>49.333967</td>\n",
       "      <td>36.161323</td>\n",
       "      <td>18.000000</td>\n",
       "      <td>33.000000</td>\n",
       "      <td>39.000000</td>\n",
       "      <td>47.000000</td>\n",
       "      <td>621.000000</td>\n",
       "    </tr>\n",
       "    <tr>\n",
       "      <th>max_size_digitos</th>\n",
       "      <td>3683.0</td>\n",
       "      <td>138.404561</td>\n",
       "      <td>59.472142</td>\n",
       "      <td>34.000000</td>\n",
       "      <td>72.000000</td>\n",
       "      <td>145.000000</td>\n",
       "      <td>198.000000</td>\n",
       "      <td>621.000000</td>\n",
       "    </tr>\n",
       "    <tr>\n",
       "      <th>min_prop_blanco_digitos</th>\n",
       "      <td>3683.0</td>\n",
       "      <td>0.843004</td>\n",
       "      <td>0.077332</td>\n",
       "      <td>0.204837</td>\n",
       "      <td>0.794079</td>\n",
       "      <td>0.839020</td>\n",
       "      <td>0.888688</td>\n",
       "      <td>0.993352</td>\n",
       "    </tr>\n",
       "    <tr>\n",
       "      <th>max_prop_blanco_digitos</th>\n",
       "      <td>3683.0</td>\n",
       "      <td>0.979409</td>\n",
       "      <td>0.014967</td>\n",
       "      <td>0.950002</td>\n",
       "      <td>0.965625</td>\n",
       "      <td>0.988142</td>\n",
       "      <td>0.991631</td>\n",
       "      <td>0.995205</td>\n",
       "    </tr>\n",
       "  </tbody>\n",
       "</table>\n",
       "</div>"
      ],
      "text/plain": [
       "                          count        mean        std        min        25%  \\\n",
       "cant_digitos             3683.0    2.944339   1.131206   1.000000   2.000000   \n",
       "min_size_digitos         3683.0   49.333967  36.161323  18.000000  33.000000   \n",
       "max_size_digitos         3683.0  138.404561  59.472142  34.000000  72.000000   \n",
       "min_prop_blanco_digitos  3683.0    0.843004   0.077332   0.204837   0.794079   \n",
       "max_prop_blanco_digitos  3683.0    0.979409   0.014967   0.950002   0.965625   \n",
       "\n",
       "                                50%         75%         max  \n",
       "cant_digitos               3.000000    4.000000    9.000000  \n",
       "min_size_digitos          39.000000   47.000000  621.000000  \n",
       "max_size_digitos         145.000000  198.000000  621.000000  \n",
       "min_prop_blanco_digitos    0.839020    0.888688    0.993352  \n",
       "max_prop_blanco_digitos    0.988142    0.991631    0.995205  "
      ]
     },
     "execution_count": 24,
     "metadata": {},
     "output_type": "execute_result"
    }
   ],
   "source": [
    "df.query(f\"max_prop_blanco_digitos > {UMBRAL_PROP_BLANCO_MAXIMO}\").describe().T"
   ]
  },
  {
   "cell_type": "code",
   "execution_count": 25,
   "id": "36e72a41",
   "metadata": {},
   "outputs": [
    {
     "data": {
      "image/png": "[encoded data removed]",
      "text/plain": [
       "<Figure size 432x288 with 1 Axes>"
      ]
     },
     "metadata": {
      "needs_background": "light"
     },
     "output_type": "display_data"
    }
   ],
   "source": [
    "df.query(f\"max_prop_blanco_digitos > {UMBRAL_PROP_BLANCO_MAXIMO}\").max_prop_blanco_digitos.hist(bins=100)\n",
    "plt.show()"
   ]
  },
  {
   "cell_type": "code",
   "execution_count": 26,
   "id": "4571cb83",
   "metadata": {},
   "outputs": [],
   "source": [
    "def plot_digitos(df: pd.DataFrame, idxs: Iterable[int]) -> None:\n",
    "    for idx in idxs:\n",
    "        registro = df.loc[idx]\n",
    "        print(f\"===============Index: {idx}===============\")\n",
    "        print(f\"Archivo: {registro.id_telegrama}\")\n",
    "        print(f\"Partido: {registro.partido}\")\n",
    "        print(f\"Tipo: {registro.tipo}\")\n",
    "        print(\"\\n\")\n",
    "        for digito in registro.digitos:\n",
    "            print(f\"Proporcion blanco: {proporcion_pixeles_blancos(digito)}\")\n",
    "            imgshow(digito)"
   ]
  },
  {
   "cell_type": "code",
   "execution_count": 27,
   "id": "f42c5788",
   "metadata": {},
   "outputs": [
    {
     "name": "stdout",
     "output_type": "stream",
     "text": [
      "===============Index: 197===============\n",
      "Archivo: 2100100011X\n",
      "Partido: frente de todos\n",
      "Tipo: diputados\n",
      "\n",
      "\n",
      "Proporcion blanco: 0.7746760295813827\n"
     ]
    },
    {
     "data": {
      "image/png": "[encoded data removed]",
      "text/plain": [
       "<PIL.Image.Image image mode=RGB size=34x34>"
      ]
     },
     "metadata": {},
     "output_type": "display_data"
    },
    {
     "name": "stdout",
     "output_type": "stream",
     "text": [
      "Proporcion blanco: 0.9917008122817182\n"
     ]
    },
    {
     "data": {
      "image/png": "[encoded data removed]",
      "text/plain": [
       "<PIL.Image.Image image mode=RGB size=159x159>"
      ]
     },
     "metadata": {},
     "output_type": "display_data"
    },
    {
     "name": "stdout",
     "output_type": "stream",
     "text": [
      "Proporcion blanco: 0.879360929557008\n"
     ]
    },
    {
     "data": {
      "image/png": "[encoded data removed]",
      "text/plain": [
       "<PIL.Image.Image image mode=RGB size=45x45>"
      ]
     },
     "metadata": {},
     "output_type": "display_data"
    },
    {
     "name": "stdout",
     "output_type": "stream",
     "text": [
      "Proporcion blanco: 0.8525583373845406\n"
     ]
    },
    {
     "data": {
      "image/png": "[encoded data removed]",
      "text/plain": [
       "<PIL.Image.Image image mode=RGB size=44x44>"
      ]
     },
     "metadata": {},
     "output_type": "display_data"
    },
    {
     "name": "stdout",
     "output_type": "stream",
     "text": [
      "===============Index: 199===============\n",
      "Archivo: 2100100012X\n",
      "Partido: unite\n",
      "Tipo: diputados\n",
      "\n",
      "\n",
      "Proporcion blanco: 0.9907487333458435\n"
     ]
    },
    {
     "data": {
      "image/png": "[encoded data removed]",
      "text/plain": [
       "<PIL.Image.Image image mode=RGB size=146x146>"
      ]
     },
     "metadata": {},
     "output_type": "display_data"
    },
    {
     "name": "stdout",
     "output_type": "stream",
     "text": [
      "Proporcion blanco: 0.8519539995929167\n"
     ]
    },
    {
     "data": {
      "image/png": "[encoded data removed]",
      "text/plain": [
       "<PIL.Image.Image image mode=RGB size=34x34>"
      ]
     },
     "metadata": {},
     "output_type": "display_data"
    },
    {
     "name": "stdout",
     "output_type": "stream",
     "text": [
      "Proporcion blanco: 0.675890356142457\n"
     ]
    },
    {
     "data": {
      "image/png": "[encoded data removed]",
      "text/plain": [
       "<PIL.Image.Image image mode=RGB size=28x28>"
      ]
     },
     "metadata": {},
     "output_type": "display_data"
    },
    {
     "name": "stdout",
     "output_type": "stream",
     "text": [
      "===============Index: 343===============\n",
      "Archivo: 2100100020X\n",
      "Partido: unite\n",
      "Tipo: diputados\n",
      "\n",
      "\n",
      "Proporcion blanco: 0.9925578736420875\n"
     ]
    },
    {
     "data": {
      "image/png": "[encoded data removed]",
      "text/plain": [
       "<PIL.Image.Image image mode=RGB size=193x193>"
      ]
     },
     "metadata": {},
     "output_type": "display_data"
    },
    {
     "name": "stdout",
     "output_type": "stream",
     "text": [
      "Proporcion blanco: 0.8268467683369645\n"
     ]
    },
    {
     "data": {
      "image/png": "[encoded data removed]",
      "text/plain": [
       "<PIL.Image.Image image mode=RGB size=45x45>"
      ]
     },
     "metadata": {},
     "output_type": "display_data"
    },
    {
     "name": "stdout",
     "output_type": "stream",
     "text": [
      "===============Index: 378===============\n",
      "Archivo: 2100100022X\n",
      "Partido: unite\n",
      "Tipo: senadores\n",
      "\n",
      "\n",
      "Proporcion blanco: 0.9903233293317327\n"
     ]
    },
    {
     "data": {
      "image/png": "[encoded data removed]",
      "text/plain": [
       "<PIL.Image.Image image mode=RGB size=140x140>"
      ]
     },
     "metadata": {},
     "output_type": "display_data"
    },
    {
     "name": "stdout",
     "output_type": "stream",
     "text": [
      "Proporcion blanco: 0.9285471132897604\n"
     ]
    },
    {
     "data": {
      "image/png": "[encoded data removed]",
      "text/plain": [
       "<PIL.Image.Image image mode=RGB size=48x48>"
      ]
     },
     "metadata": {},
     "output_type": "display_data"
    },
    {
     "name": "stdout",
     "output_type": "stream",
     "text": [
      "===============Index: 379===============\n",
      "Archivo: 2100100022X\n",
      "Partido: unite\n",
      "Tipo: diputados\n",
      "\n",
      "\n",
      "Proporcion blanco: 0.9891549579605585\n"
     ]
    },
    {
     "data": {
      "image/png": "[encoded data removed]",
      "text/plain": [
       "<PIL.Image.Image image mode=RGB size=199x199>"
      ]
     },
     "metadata": {},
     "output_type": "display_data"
    },
    {
     "name": "stdout",
     "output_type": "stream",
     "text": [
      "Proporcion blanco: 0.926942061546841\n"
     ]
    },
    {
     "data": {
      "image/png": "[encoded data removed]",
      "text/plain": [
       "<PIL.Image.Image image mode=RGB size=48x48>"
      ]
     },
     "metadata": {},
     "output_type": "display_data"
    },
    {
     "name": "stdout",
     "output_type": "stream",
     "text": [
      "===============Index: 433===============\n",
      "Archivo: 2100100025X\n",
      "Partido: unite\n",
      "Tipo: diputados\n",
      "\n",
      "\n",
      "Proporcion blanco: 0.7652352401015503\n"
     ]
    },
    {
     "data": {
      "image/png": "[encoded data removed]",
      "text/plain": [
       "<PIL.Image.Image image mode=RGB size=33x33>"
      ]
     },
     "metadata": {},
     "output_type": "display_data"
    },
    {
     "name": "stdout",
     "output_type": "stream",
     "text": [
      "Proporcion blanco: 0.9899076458985961\n"
     ]
    },
    {
     "data": {
      "image/png": "[encoded data removed]",
      "text/plain": [
       "<PIL.Image.Image image mode=RGB size=130x130>"
      ]
     },
     "metadata": {},
     "output_type": "display_data"
    },
    {
     "name": "stdout",
     "output_type": "stream",
     "text": [
      "Proporcion blanco: 0.818324860808521\n"
     ]
    },
    {
     "data": {
      "image/png": "[encoded data removed]",
      "text/plain": [
       "<PIL.Image.Image image mode=RGB size=36x36>"
      ]
     },
     "metadata": {},
     "output_type": "display_data"
    },
    {
     "name": "stdout",
     "output_type": "stream",
     "text": [
      "Proporcion blanco: 0.8654679254417816\n"
     ]
    },
    {
     "data": {
      "image/png": "[encoded data removed]",
      "text/plain": [
       "<PIL.Image.Image image mode=RGB size=45x45>"
      ]
     },
     "metadata": {},
     "output_type": "display_data"
    },
    {
     "name": "stdout",
     "output_type": "stream",
     "text": [
      "===============Index: 451===============\n",
      "Archivo: 2100100026X\n",
      "Partido: unite\n",
      "Tipo: diputados\n",
      "\n",
      "\n",
      "Proporcion blanco: 0.9882571790868818\n"
     ]
    },
    {
     "data": {
      "image/png": "[encoded data removed]",
      "text/plain": [
       "<PIL.Image.Image image mode=RGB size=199x199>"
      ]
     },
     "metadata": {},
     "output_type": "display_data"
    },
    {
     "name": "stdout",
     "output_type": "stream",
     "text": [
      "Proporcion blanco: 0.732092837134854\n"
     ]
    },
    {
     "data": {
      "image/png": "[encoded data removed]",
      "text/plain": [
       "<PIL.Image.Image image mode=RGB size=28x28>"
      ]
     },
     "metadata": {},
     "output_type": "display_data"
    },
    {
     "name": "stdout",
     "output_type": "stream",
     "text": [
      "Proporcion blanco: 0.7337949686414399\n"
     ]
    },
    {
     "data": {
      "image/png": "[encoded data removed]",
      "text/plain": [
       "<PIL.Image.Image image mode=RGB size=29x29>"
      ]
     },
     "metadata": {},
     "output_type": "display_data"
    },
    {
     "name": "stdout",
     "output_type": "stream",
     "text": [
      "Proporcion blanco: 0.8104702818627451\n"
     ]
    },
    {
     "data": {
      "image/png": "[encoded data removed]",
      "text/plain": [
       "<PIL.Image.Image image mode=RGB size=32x32>"
      ]
     },
     "metadata": {},
     "output_type": "display_data"
    },
    {
     "name": "stdout",
     "output_type": "stream",
     "text": [
      "===============Index: 453===============\n",
      "Archivo: 2100100026X\n",
      "Partido: frente amplio progresista\n",
      "Tipo: diputados\n",
      "\n",
      "\n",
      "Proporcion blanco: 0.9936196882834333\n"
     ]
    },
    {
     "data": {
      "image/png": "[encoded data removed]",
      "text/plain": [
       "<PIL.Image.Image image mode=RGB size=194x194>"
      ]
     },
     "metadata": {},
     "output_type": "display_data"
    },
    {
     "name": "stdout",
     "output_type": "stream",
     "text": [
      "Proporcion blanco: 0.7902511681051193\n"
     ]
    },
    {
     "data": {
      "image/png": "[encoded data removed]",
      "text/plain": [
       "<PIL.Image.Image image mode=RGB size=31x31>"
      ]
     },
     "metadata": {},
     "output_type": "display_data"
    },
    {
     "name": "stdout",
     "output_type": "stream",
     "text": [
      "Proporcion blanco: 0.7233321731059288\n"
     ]
    },
    {
     "data": {
      "image/png": "[encoded data removed]",
      "text/plain": [
       "<PIL.Image.Image image mode=RGB size=26x26>"
      ]
     },
     "metadata": {},
     "output_type": "display_data"
    },
    {
     "name": "stdout",
     "output_type": "stream",
     "text": [
      "Proporcion blanco: 0.8358888707837706\n"
     ]
    },
    {
     "data": {
      "image/png": "[encoded data removed]",
      "text/plain": [
       "<PIL.Image.Image image mode=RGB size=38x38>"
      ]
     },
     "metadata": {},
     "output_type": "display_data"
    },
    {
     "name": "stdout",
     "output_type": "stream",
     "text": [
      "===============Index: 455===============\n",
      "Archivo: 2100100026X\n",
      "Partido: fit\n",
      "Tipo: diputados\n",
      "\n",
      "\n",
      "Proporcion blanco: 0.7859198041016223\n"
     ]
    },
    {
     "data": {
      "image/png": "[encoded data removed]",
      "text/plain": [
       "<PIL.Image.Image image mode=RGB size=33x33>"
      ]
     },
     "metadata": {},
     "output_type": "display_data"
    },
    {
     "name": "stdout",
     "output_type": "stream",
     "text": [
      "Proporcion blanco: 0.991364200000988\n"
     ]
    },
    {
     "data": {
      "image/png": "[encoded data removed]",
      "text/plain": [
       "<PIL.Image.Image image mode=RGB size=126x126>"
      ]
     },
     "metadata": {},
     "output_type": "display_data"
    },
    {
     "name": "stdout",
     "output_type": "stream",
     "text": [
      "Proporcion blanco: 0.7430743046326735\n"
     ]
    },
    {
     "data": {
      "image/png": "[encoded data removed]",
      "text/plain": [
       "<PIL.Image.Image image mode=RGB size=29x29>"
      ]
     },
     "metadata": {},
     "output_type": "display_data"
    },
    {
     "name": "stdout",
     "output_type": "stream",
     "text": [
      "Proporcion blanco: 0.8478504825447348\n"
     ]
    },
    {
     "data": {
      "image/png": "[encoded data removed]",
      "text/plain": [
       "<PIL.Image.Image image mode=RGB size=31x31>"
      ]
     },
     "metadata": {},
     "output_type": "display_data"
    },
    {
     "name": "stdout",
     "output_type": "stream",
     "text": [
      "===============Index: 505===============\n",
      "Archivo: 2100100029X\n",
      "Partido: unite\n",
      "Tipo: diputados\n",
      "\n",
      "\n",
      "Proporcion blanco: 0.993146736738179\n"
     ]
    },
    {
     "data": {
      "image/png": "[encoded data removed]",
      "text/plain": [
       "<PIL.Image.Image image mode=RGB size=199x199>"
      ]
     },
     "metadata": {},
     "output_type": "display_data"
    },
    {
     "name": "stdout",
     "output_type": "stream",
     "text": [
      "Proporcion blanco: 0.6447088476222247\n"
     ]
    },
    {
     "data": {
      "image/png": "[encoded data removed]",
      "text/plain": [
       "<PIL.Image.Image image mode=RGB size=23x23>"
      ]
     },
     "metadata": {},
     "output_type": "display_data"
    },
    {
     "name": "stdout",
     "output_type": "stream",
     "text": [
      "Proporcion blanco: 0.6017003921568628\n"
     ]
    },
    {
     "data": {
      "image/png": "[encoded data removed]",
      "text/plain": [
       "<PIL.Image.Image image mode=RGB size=25x25>"
      ]
     },
     "metadata": {},
     "output_type": "display_data"
    },
    {
     "name": "stdout",
     "output_type": "stream",
     "text": [
      "Proporcion blanco: 0.7593507625272331\n"
     ]
    },
    {
     "data": {
      "image/png": "[encoded data removed]",
      "text/plain": [
       "<PIL.Image.Image image mode=RGB size=30x30>"
      ]
     },
     "metadata": {},
     "output_type": "display_data"
    }
   ],
   "source": [
    "idxs_blanco_sospechoso = df.query(f\"max_prop_blanco_digitos > {UMBRAL_PROP_BLANCO_MAXIMO}\").head(10).index.values\n",
    "\n",
    "plot_digitos(df, idxs_blanco_sospechoso)"
   ]
  },
  {
   "cell_type": "markdown",
   "id": "8144c70f",
   "metadata": {},
   "source": [
    "Parece que en varios casos estamos leyendo la linea divisoria como digito, vamos a eliminar aquellos digitos cuyo porcentaje de blanco sea mayor o igual a 0.95."
   ]
  },
  {
   "cell_type": "code",
   "execution_count": 28,
   "id": "d931522c",
   "metadata": {},
   "outputs": [],
   "source": [
    "df['digitos'] = df.digitos.apply(\n",
    "    lambda digitos: [digito for digito in digitos if proporcion_pixeles_blancos(digito) < UMBRAL_PROP_BLANCO_MAXIMO]\n",
    ")\n",
    "\n",
    "df = calcular_indicadores_digitos(df)"
   ]
  },
  {
   "cell_type": "code",
   "execution_count": 29,
   "id": "21d37214",
   "metadata": {
    "scrolled": true
   },
   "outputs": [
    {
     "name": "stdout",
     "output_type": "stream",
     "text": [
      "===============Index: 197===============\n",
      "Archivo: 2100100011X\n",
      "Partido: frente de todos\n",
      "Tipo: diputados\n",
      "\n",
      "\n",
      "Proporcion blanco: 0.7746760295813827\n"
     ]
    },
    {
     "data": {
      "image/png": "[encoded data removed]",
      "text/plain": [
       "<PIL.Image.Image image mode=RGB size=34x34>"
      ]
     },
     "metadata": {},
     "output_type": "display_data"
    },
    {
     "name": "stdout",
     "output_type": "stream",
     "text": [
      "Proporcion blanco: 0.879360929557008\n"
     ]
    },
    {
     "data": {
      "image/png": "[encoded data removed]",
      "text/plain": [
       "<PIL.Image.Image image mode=RGB size=45x45>"
      ]
     },
     "metadata": {},
     "output_type": "display_data"
    },
    {
     "name": "stdout",
     "output_type": "stream",
     "text": [
      "Proporcion blanco: 0.8525583373845406\n"
     ]
    },
    {
     "data": {
      "image/png": "[encoded data removed]",
      "text/plain": [
       "<PIL.Image.Image image mode=RGB size=44x44>"
      ]
     },
     "metadata": {},
     "output_type": "display_data"
    },
    {
     "name": "stdout",
     "output_type": "stream",
     "text": [
      "===============Index: 199===============\n",
      "Archivo: 2100100012X\n",
      "Partido: unite\n",
      "Tipo: diputados\n",
      "\n",
      "\n",
      "Proporcion blanco: 0.8519539995929167\n"
     ]
    },
    {
     "data": {
      "image/png": "[encoded data removed]",
      "text/plain": [
       "<PIL.Image.Image image mode=RGB size=34x34>"
      ]
     },
     "metadata": {},
     "output_type": "display_data"
    },
    {
     "name": "stdout",
     "output_type": "stream",
     "text": [
      "Proporcion blanco: 0.675890356142457\n"
     ]
    },
    {
     "data": {
      "image/png": "[encoded data removed]",
      "text/plain": [
       "<PIL.Image.Image image mode=RGB size=28x28>"
      ]
     },
     "metadata": {},
     "output_type": "display_data"
    },
    {
     "name": "stdout",
     "output_type": "stream",
     "text": [
      "===============Index: 343===============\n",
      "Archivo: 2100100020X\n",
      "Partido: unite\n",
      "Tipo: diputados\n",
      "\n",
      "\n",
      "Proporcion blanco: 0.8268467683369645\n"
     ]
    },
    {
     "data": {
      "image/png": "[encoded data removed]",
      "text/plain": [
       "<PIL.Image.Image image mode=RGB size=45x45>"
      ]
     },
     "metadata": {},
     "output_type": "display_data"
    },
    {
     "name": "stdout",
     "output_type": "stream",
     "text": [
      "===============Index: 378===============\n",
      "Archivo: 2100100022X\n",
      "Partido: unite\n",
      "Tipo: senadores\n",
      "\n",
      "\n",
      "Proporcion blanco: 0.9285471132897604\n"
     ]
    },
    {
     "data": {
      "image/png": "[encoded data removed]",
      "text/plain": [
       "<PIL.Image.Image image mode=RGB size=48x48>"
      ]
     },
     "metadata": {},
     "output_type": "display_data"
    },
    {
     "name": "stdout",
     "output_type": "stream",
     "text": [
      "===============Index: 379===============\n",
      "Archivo: 2100100022X\n",
      "Partido: unite\n",
      "Tipo: diputados\n",
      "\n",
      "\n",
      "Proporcion blanco: 0.926942061546841\n"
     ]
    },
    {
     "data": {
      "image/png": "[encoded data removed]",
      "text/plain": [
       "<PIL.Image.Image image mode=RGB size=48x48>"
      ]
     },
     "metadata": {},
     "output_type": "display_data"
    },
    {
     "name": "stdout",
     "output_type": "stream",
     "text": [
      "===============Index: 433===============\n",
      "Archivo: 2100100025X\n",
      "Partido: unite\n",
      "Tipo: diputados\n",
      "\n",
      "\n",
      "Proporcion blanco: 0.7652352401015503\n"
     ]
    },
    {
     "data": {
      "image/png": "[encoded data removed]",
      "text/plain": [
       "<PIL.Image.Image image mode=RGB size=33x33>"
      ]
     },
     "metadata": {},
     "output_type": "display_data"
    },
    {
     "name": "stdout",
     "output_type": "stream",
     "text": [
      "Proporcion blanco: 0.818324860808521\n"
     ]
    },
    {
     "data": {
      "image/png": "[encoded data removed]",
      "text/plain": [
       "<PIL.Image.Image image mode=RGB size=36x36>"
      ]
     },
     "metadata": {},
     "output_type": "display_data"
    },
    {
     "name": "stdout",
     "output_type": "stream",
     "text": [
      "Proporcion blanco: 0.8654679254417816\n"
     ]
    },
    {
     "data": {
      "image/png": "[encoded data removed]",
      "text/plain": [
       "<PIL.Image.Image image mode=RGB size=45x45>"
      ]
     },
     "metadata": {},
     "output_type": "display_data"
    },
    {
     "name": "stdout",
     "output_type": "stream",
     "text": [
      "===============Index: 451===============\n",
      "Archivo: 2100100026X\n",
      "Partido: unite\n",
      "Tipo: diputados\n",
      "\n",
      "\n",
      "Proporcion blanco: 0.732092837134854\n"
     ]
    },
    {
     "data": {
      "image/png": "[encoded data removed]",
      "text/plain": [
       "<PIL.Image.Image image mode=RGB size=28x28>"
      ]
     },
     "metadata": {},
     "output_type": "display_data"
    },
    {
     "name": "stdout",
     "output_type": "stream",
     "text": [
      "Proporcion blanco: 0.7337949686414399\n"
     ]
    },
    {
     "data": {
      "image/png": "[encoded data removed]",
      "text/plain": [
       "<PIL.Image.Image image mode=RGB size=29x29>"
      ]
     },
     "metadata": {},
     "output_type": "display_data"
    },
    {
     "name": "stdout",
     "output_type": "stream",
     "text": [
      "Proporcion blanco: 0.8104702818627451\n"
     ]
    },
    {
     "data": {
      "image/png": "[encoded data removed]",
      "text/plain": [
       "<PIL.Image.Image image mode=RGB size=32x32>"
      ]
     },
     "metadata": {},
     "output_type": "display_data"
    },
    {
     "name": "stdout",
     "output_type": "stream",
     "text": [
      "===============Index: 453===============\n",
      "Archivo: 2100100026X\n",
      "Partido: frente amplio progresista\n",
      "Tipo: diputados\n",
      "\n",
      "\n",
      "Proporcion blanco: 0.7902511681051193\n"
     ]
    },
    {
     "data": {
      "image/png": "[encoded data removed]",
      "text/plain": [
       "<PIL.Image.Image image mode=RGB size=31x31>"
      ]
     },
     "metadata": {},
     "output_type": "display_data"
    },
    {
     "name": "stdout",
     "output_type": "stream",
     "text": [
      "Proporcion blanco: 0.7233321731059288\n"
     ]
    },
    {
     "data": {
      "image/png": "[encoded data removed]",
      "text/plain": [
       "<PIL.Image.Image image mode=RGB size=26x26>"
      ]
     },
     "metadata": {},
     "output_type": "display_data"
    },
    {
     "name": "stdout",
     "output_type": "stream",
     "text": [
      "Proporcion blanco: 0.8358888707837706\n"
     ]
    },
    {
     "data": {
      "image/png": "[encoded data removed]",
      "text/plain": [
       "<PIL.Image.Image image mode=RGB size=38x38>"
      ]
     },
     "metadata": {},
     "output_type": "display_data"
    },
    {
     "name": "stdout",
     "output_type": "stream",
     "text": [
      "===============Index: 455===============\n",
      "Archivo: 2100100026X\n",
      "Partido: fit\n",
      "Tipo: diputados\n",
      "\n",
      "\n",
      "Proporcion blanco: 0.7859198041016223\n"
     ]
    },
    {
     "data": {
      "image/png": "[encoded data removed]",
      "text/plain": [
       "<PIL.Image.Image image mode=RGB size=33x33>"
      ]
     },
     "metadata": {},
     "output_type": "display_data"
    },
    {
     "name": "stdout",
     "output_type": "stream",
     "text": [
      "Proporcion blanco: 0.7430743046326735\n"
     ]
    },
    {
     "data": {
      "image/png": "[encoded data removed]",
      "text/plain": [
       "<PIL.Image.Image image mode=RGB size=29x29>"
      ]
     },
     "metadata": {},
     "output_type": "display_data"
    },
    {
     "name": "stdout",
     "output_type": "stream",
     "text": [
      "Proporcion blanco: 0.8478504825447348\n"
     ]
    },
    {
     "data": {
      "image/png": "[encoded data removed]",
      "text/plain": [
       "<PIL.Image.Image image mode=RGB size=31x31>"
      ]
     },
     "metadata": {},
     "output_type": "display_data"
    },
    {
     "name": "stdout",
     "output_type": "stream",
     "text": [
      "===============Index: 505===============\n",
      "Archivo: 2100100029X\n",
      "Partido: unite\n",
      "Tipo: diputados\n",
      "\n",
      "\n",
      "Proporcion blanco: 0.6447088476222247\n"
     ]
    },
    {
     "data": {
      "image/png": "[encoded data removed]",
      "text/plain": [
       "<PIL.Image.Image image mode=RGB size=23x23>"
      ]
     },
     "metadata": {},
     "output_type": "display_data"
    },
    {
     "name": "stdout",
     "output_type": "stream",
     "text": [
      "Proporcion blanco: 0.6017003921568628\n"
     ]
    },
    {
     "data": {
      "image/png": "[encoded data removed]",
      "text/plain": [
       "<PIL.Image.Image image mode=RGB size=25x25>"
      ]
     },
     "metadata": {},
     "output_type": "display_data"
    },
    {
     "name": "stdout",
     "output_type": "stream",
     "text": [
      "Proporcion blanco: 0.7593507625272331\n"
     ]
    },
    {
     "data": {
      "image/png": "[encoded data removed]",
      "text/plain": [
       "<PIL.Image.Image image mode=RGB size=30x30>"
      ]
     },
     "metadata": {},
     "output_type": "display_data"
    }
   ],
   "source": [
    "plot_digitos(df, idxs_blanco_sospechoso)"
   ]
  },
  {
   "cell_type": "code",
   "execution_count": 30,
   "id": "eb2026ca",
   "metadata": {
    "scrolled": true
   },
   "outputs": [
    {
     "data": {
      "text/html": [
       "<div>\n",
       "<style scoped>\n",
       "    .dataframe tbody tr th:only-of-type {\n",
       "        vertical-align: middle;\n",
       "    }\n",
       "\n",
       "    .dataframe tbody tr th {\n",
       "        vertical-align: top;\n",
       "    }\n",
       "\n",
       "    .dataframe thead th {\n",
       "        text-align: right;\n",
       "    }\n",
       "</style>\n",
       "<table border=\"1\" class=\"dataframe\">\n",
       "  <thead>\n",
       "    <tr style=\"text-align: right;\">\n",
       "      <th></th>\n",
       "      <th>count</th>\n",
       "      <th>mean</th>\n",
       "      <th>std</th>\n",
       "      <th>min</th>\n",
       "      <th>25%</th>\n",
       "      <th>50%</th>\n",
       "      <th>75%</th>\n",
       "      <th>max</th>\n",
       "    </tr>\n",
       "  </thead>\n",
       "  <tbody>\n",
       "    <tr>\n",
       "      <th>cant_digitos</th>\n",
       "      <td>144128.0</td>\n",
       "      <td>2.277198</td>\n",
       "      <td>0.871926</td>\n",
       "      <td>0.000000</td>\n",
       "      <td>2.000000</td>\n",
       "      <td>3.000000</td>\n",
       "      <td>3.000000</td>\n",
       "      <td>14.000000</td>\n",
       "    </tr>\n",
       "    <tr>\n",
       "      <th>min_size_digitos</th>\n",
       "      <td>142528.0</td>\n",
       "      <td>38.348226</td>\n",
       "      <td>9.607217</td>\n",
       "      <td>7.000000</td>\n",
       "      <td>32.000000</td>\n",
       "      <td>37.000000</td>\n",
       "      <td>43.000000</td>\n",
       "      <td>621.000000</td>\n",
       "    </tr>\n",
       "    <tr>\n",
       "      <th>max_size_digitos</th>\n",
       "      <td>142528.0</td>\n",
       "      <td>44.803723</td>\n",
       "      <td>10.747860</td>\n",
       "      <td>13.000000</td>\n",
       "      <td>38.000000</td>\n",
       "      <td>43.000000</td>\n",
       "      <td>49.000000</td>\n",
       "      <td>621.000000</td>\n",
       "    </tr>\n",
       "    <tr>\n",
       "      <th>min_prop_blanco_digitos</th>\n",
       "      <td>142528.0</td>\n",
       "      <td>0.815808</td>\n",
       "      <td>0.057525</td>\n",
       "      <td>0.102281</td>\n",
       "      <td>0.782776</td>\n",
       "      <td>0.819785</td>\n",
       "      <td>0.855040</td>\n",
       "      <td>0.949951</td>\n",
       "    </tr>\n",
       "    <tr>\n",
       "      <th>max_prop_blanco_digitos</th>\n",
       "      <td>142528.0</td>\n",
       "      <td>0.862510</td>\n",
       "      <td>0.045071</td>\n",
       "      <td>0.267430</td>\n",
       "      <td>0.836701</td>\n",
       "      <td>0.867856</td>\n",
       "      <td>0.894321</td>\n",
       "      <td>0.949997</td>\n",
       "    </tr>\n",
       "  </tbody>\n",
       "</table>\n",
       "</div>"
      ],
      "text/plain": [
       "                            count       mean        std        min        25%  \\\n",
       "cant_digitos             144128.0   2.277198   0.871926   0.000000   2.000000   \n",
       "min_size_digitos         142528.0  38.348226   9.607217   7.000000  32.000000   \n",
       "max_size_digitos         142528.0  44.803723  10.747860  13.000000  38.000000   \n",
       "min_prop_blanco_digitos  142528.0   0.815808   0.057525   0.102281   0.782776   \n",
       "max_prop_blanco_digitos  142528.0   0.862510   0.045071   0.267430   0.836701   \n",
       "\n",
       "                               50%        75%         max  \n",
       "cant_digitos              3.000000   3.000000   14.000000  \n",
       "min_size_digitos         37.000000  43.000000  621.000000  \n",
       "max_size_digitos         43.000000  49.000000  621.000000  \n",
       "min_prop_blanco_digitos   0.819785   0.855040    0.949951  \n",
       "max_prop_blanco_digitos   0.867856   0.894321    0.949997  "
      ]
     },
     "execution_count": 30,
     "metadata": {},
     "output_type": "execute_result"
    }
   ],
   "source": [
    "df.describe().T"
   ]
  },
  {
   "cell_type": "markdown",
   "id": "9246ae35",
   "metadata": {},
   "source": [
    "Ahora vamos a ver los valores chicos de la proporcion de blancos."
   ]
  },
  {
   "cell_type": "code",
   "execution_count": 31,
   "id": "bc627b5f",
   "metadata": {},
   "outputs": [],
   "source": [
    "UMBRAL_PROP_BLANCO_MINIMO = 0.5"
   ]
  },
  {
   "cell_type": "code",
   "execution_count": 32,
   "id": "a75252fc",
   "metadata": {
    "scrolled": false
   },
   "outputs": [
    {
     "data": {
      "image/png": "[encoded data removed]",
      "text/plain": [
       "<Figure size 432x288 with 1 Axes>"
      ]
     },
     "metadata": {
      "needs_background": "light"
     },
     "output_type": "display_data"
    }
   ],
   "source": [
    "df.query(f\"min_prop_blanco_digitos < {UMBRAL_PROP_BLANCO_MINIMO}\").min_prop_blanco_digitos.hist(bins=100)\n",
    "plt.show()"
   ]
  },
  {
   "cell_type": "code",
   "execution_count": 33,
   "id": "24372485",
   "metadata": {},
   "outputs": [
    {
     "name": "stdout",
     "output_type": "stream",
     "text": [
      "==============unite - senadores==============\n"
     ]
    },
    {
     "data": {
      "image/png": "[encoded data removed]",
      "text/plain": [
       "<PIL.Image.Image image mode=RGB size=33x33>"
      ]
     },
     "metadata": {},
     "output_type": "display_data"
    },
    {
     "data": {
      "image/png": "[encoded data removed]",
      "text/plain": [
       "<PIL.Image.Image image mode=RGB size=29x29>"
      ]
     },
     "metadata": {},
     "output_type": "display_data"
    },
    {
     "data": {
      "image/png": "[encoded data removed]",
      "text/plain": [
       "<PIL.Image.Image image mode=RGB size=38x38>"
      ]
     },
     "metadata": {},
     "output_type": "display_data"
    },
    {
     "name": "stdout",
     "output_type": "stream",
     "text": [
      "==============unite - diputados==============\n"
     ]
    },
    {
     "data": {
      "image/png": "[encoded data removed]",
      "text/plain": [
       "<PIL.Image.Image image mode=RGB size=29x29>"
      ]
     },
     "metadata": {},
     "output_type": "display_data"
    },
    {
     "data": {
      "image/png": "[encoded data removed]",
      "text/plain": [
       "<PIL.Image.Image image mode=RGB size=30x30>"
      ]
     },
     "metadata": {},
     "output_type": "display_data"
    },
    {
     "data": {
      "image/png": "[encoded data removed]",
      "text/plain": [
       "<PIL.Image.Image image mode=RGB size=34x34>"
      ]
     },
     "metadata": {},
     "output_type": "display_data"
    },
    {
     "name": "stdout",
     "output_type": "stream",
     "text": [
      "==============frente amplio progresista - senadores==============\n"
     ]
    },
    {
     "data": {
      "image/png": "[encoded data removed]",
      "text/plain": [
       "<PIL.Image.Image image mode=RGB size=33x33>"
      ]
     },
     "metadata": {},
     "output_type": "display_data"
    },
    {
     "data": {
      "image/png": "[encoded data removed]",
      "text/plain": [
       "<PIL.Image.Image image mode=RGB size=33x33>"
      ]
     },
     "metadata": {},
     "output_type": "display_data"
    },
    {
     "name": "stdout",
     "output_type": "stream",
     "text": [
      "==============frente amplio progresista - diputados==============\n"
     ]
    },
    {
     "data": {
      "image/png": "[encoded data removed]",
      "text/plain": [
       "<PIL.Image.Image image mode=RGB size=28x28>"
      ]
     },
     "metadata": {},
     "output_type": "display_data"
    },
    {
     "data": {
      "image/png": "[encoded data removed]",
      "text/plain": [
       "<PIL.Image.Image image mode=RGB size=29x29>"
      ]
     },
     "metadata": {},
     "output_type": "display_data"
    },
    {
     "data": {
      "image/png": "[encoded data removed]",
      "text/plain": [
       "<PIL.Image.Image image mode=RGB size=39x39>"
      ]
     },
     "metadata": {},
     "output_type": "display_data"
    },
    {
     "name": "stdout",
     "output_type": "stream",
     "text": [
      "==============fit - senadores==============\n"
     ]
    },
    {
     "data": {
      "image/png": "[encoded data removed]",
      "text/plain": [
       "<PIL.Image.Image image mode=RGB size=32x32>"
      ]
     },
     "metadata": {},
     "output_type": "display_data"
    },
    {
     "data": {
      "image/png": "[encoded data removed]",
      "text/plain": [
       "<PIL.Image.Image image mode=RGB size=34x34>"
      ]
     },
     "metadata": {},
     "output_type": "display_data"
    },
    {
     "data": {
      "image/png": "[encoded data removed]",
      "text/plain": [
       "<PIL.Image.Image image mode=RGB size=31x31>"
      ]
     },
     "metadata": {},
     "output_type": "display_data"
    },
    {
     "name": "stdout",
     "output_type": "stream",
     "text": [
      "==============fit - diputados==============\n"
     ]
    },
    {
     "data": {
      "image/png": "[encoded data removed]",
      "text/plain": [
       "<PIL.Image.Image image mode=RGB size=29x29>"
      ]
     },
     "metadata": {},
     "output_type": "display_data"
    },
    {
     "data": {
      "image/png": "[encoded data removed]",
      "text/plain": [
       "<PIL.Image.Image image mode=RGB size=35x35>"
      ]
     },
     "metadata": {},
     "output_type": "display_data"
    },
    {
     "data": {
      "image/png": "[encoded data removed]",
      "text/plain": [
       "<PIL.Image.Image image mode=RGB size=31x31>"
      ]
     },
     "metadata": {},
     "output_type": "display_data"
    },
    {
     "name": "stdout",
     "output_type": "stream",
     "text": [
      "==============juntos - senadores==============\n"
     ]
    },
    {
     "data": {
      "image/png": "[encoded data removed]",
      "text/plain": [
       "<PIL.Image.Image image mode=RGB size=32x32>"
      ]
     },
     "metadata": {},
     "output_type": "display_data"
    },
    {
     "data": {
      "image/png": "[encoded data removed]",
      "text/plain": [
       "<PIL.Image.Image image mode=RGB size=35x35>"
      ]
     },
     "metadata": {},
     "output_type": "display_data"
    },
    {
     "data": {
      "image/png": "[encoded data removed]",
      "text/plain": [
       "<PIL.Image.Image image mode=RGB size=40x40>"
      ]
     },
     "metadata": {},
     "output_type": "display_data"
    },
    {
     "name": "stdout",
     "output_type": "stream",
     "text": [
      "==============juntos - diputados==============\n"
     ]
    },
    {
     "data": {
      "image/png": "[encoded data removed]",
      "text/plain": [
       "<PIL.Image.Image image mode=RGB size=33x33>"
      ]
     },
     "metadata": {},
     "output_type": "display_data"
    },
    {
     "data": {
      "image/png": "[encoded data removed]",
      "text/plain": [
       "<PIL.Image.Image image mode=RGB size=36x36>"
      ]
     },
     "metadata": {},
     "output_type": "display_data"
    },
    {
     "data": {
      "image/png": "[encoded data removed]",
      "text/plain": [
       "<PIL.Image.Image image mode=RGB size=36x36>"
      ]
     },
     "metadata": {},
     "output_type": "display_data"
    },
    {
     "name": "stdout",
     "output_type": "stream",
     "text": [
      "==============primero santa fe - senadores==============\n"
     ]
    },
    {
     "data": {
      "image/png": "[encoded data removed]",
      "text/plain": [
       "<PIL.Image.Image image mode=RGB size=29x29>"
      ]
     },
     "metadata": {},
     "output_type": "display_data"
    },
    {
     "data": {
      "image/png": "[encoded data removed]",
      "text/plain": [
       "<PIL.Image.Image image mode=RGB size=25x25>"
      ]
     },
     "metadata": {},
     "output_type": "display_data"
    },
    {
     "data": {
      "image/png": "[encoded data removed]",
      "text/plain": [
       "<PIL.Image.Image image mode=RGB size=37x37>"
      ]
     },
     "metadata": {},
     "output_type": "display_data"
    },
    {
     "name": "stdout",
     "output_type": "stream",
     "text": [
      "==============primero santa fe - diputados==============\n"
     ]
    },
    {
     "data": {
      "image/png": "[encoded data removed]",
      "text/plain": [
       "<PIL.Image.Image image mode=RGB size=26x26>"
      ]
     },
     "metadata": {},
     "output_type": "display_data"
    },
    {
     "data": {
      "image/png": "[encoded data removed]",
      "text/plain": [
       "<PIL.Image.Image image mode=RGB size=32x32>"
      ]
     },
     "metadata": {},
     "output_type": "display_data"
    },
    {
     "data": {
      "image/png": "[encoded data removed]",
      "text/plain": [
       "<PIL.Image.Image image mode=RGB size=35x35>"
      ]
     },
     "metadata": {},
     "output_type": "display_data"
    },
    {
     "name": "stdout",
     "output_type": "stream",
     "text": [
      "==============somos futuro - senadores==============\n"
     ]
    },
    {
     "data": {
      "image/png": "[encoded data removed]",
      "text/plain": [
       "<PIL.Image.Image image mode=RGB size=32x32>"
      ]
     },
     "metadata": {},
     "output_type": "display_data"
    },
    {
     "data": {
      "image/png": "[encoded data removed]",
      "text/plain": [
       "<PIL.Image.Image image mode=RGB size=32x32>"
      ]
     },
     "metadata": {},
     "output_type": "display_data"
    },
    {
     "data": {
      "image/png": "[encoded data removed]",
      "text/plain": [
       "<PIL.Image.Image image mode=RGB size=29x29>"
      ]
     },
     "metadata": {},
     "output_type": "display_data"
    },
    {
     "name": "stdout",
     "output_type": "stream",
     "text": [
      "==============somos futuro - diputados==============\n"
     ]
    },
    {
     "data": {
      "image/png": "[encoded data removed]",
      "text/plain": [
       "<PIL.Image.Image image mode=RGB size=28x28>"
      ]
     },
     "metadata": {},
     "output_type": "display_data"
    },
    {
     "data": {
      "image/png": "[encoded data removed]",
      "text/plain": [
       "<PIL.Image.Image image mode=RGB size=31x31>"
      ]
     },
     "metadata": {},
     "output_type": "display_data"
    },
    {
     "data": {
      "image/png": "[encoded data removed]",
      "text/plain": [
       "<PIL.Image.Image image mode=RGB size=36x36>"
      ]
     },
     "metadata": {},
     "output_type": "display_data"
    },
    {
     "name": "stdout",
     "output_type": "stream",
     "text": [
      "==============podemos - senadores==============\n"
     ]
    },
    {
     "data": {
      "image/png": "[encoded data removed]",
      "text/plain": [
       "<PIL.Image.Image image mode=RGB size=32x32>"
      ]
     },
     "metadata": {},
     "output_type": "display_data"
    },
    {
     "data": {
      "image/png": "[encoded data removed]",
      "text/plain": [
       "<PIL.Image.Image image mode=RGB size=32x32>"
      ]
     },
     "metadata": {},
     "output_type": "display_data"
    },
    {
     "data": {
      "image/png": "[encoded data removed]",
      "text/plain": [
       "<PIL.Image.Image image mode=RGB size=33x33>"
      ]
     },
     "metadata": {},
     "output_type": "display_data"
    },
    {
     "name": "stdout",
     "output_type": "stream",
     "text": [
      "==============podemos - diputados==============\n"
     ]
    },
    {
     "data": {
      "image/png": "[encoded data removed]",
      "text/plain": [
       "<PIL.Image.Image image mode=RGB size=29x29>"
      ]
     },
     "metadata": {},
     "output_type": "display_data"
    },
    {
     "data": {
      "image/png": "[encoded data removed]",
      "text/plain": [
       "<PIL.Image.Image image mode=RGB size=31x31>"
      ]
     },
     "metadata": {},
     "output_type": "display_data"
    },
    {
     "data": {
      "image/png": "[encoded data removed]",
      "text/plain": [
       "<PIL.Image.Image image mode=RGB size=33x33>"
      ]
     },
     "metadata": {},
     "output_type": "display_data"
    },
    {
     "name": "stdout",
     "output_type": "stream",
     "text": [
      "==============soberania popular - senadores==============\n"
     ]
    },
    {
     "data": {
      "image/png": "[encoded data removed]",
      "text/plain": [
       "<PIL.Image.Image image mode=RGB size=30x30>"
      ]
     },
     "metadata": {},
     "output_type": "display_data"
    },
    {
     "data": {
      "image/png": "[encoded data removed]",
      "text/plain": [
       "<PIL.Image.Image image mode=RGB size=28x28>"
      ]
     },
     "metadata": {},
     "output_type": "display_data"
    },
    {
     "data": {
      "image/png": "[encoded data removed]",
      "text/plain": [
       "<PIL.Image.Image image mode=RGB size=35x35>"
      ]
     },
     "metadata": {},
     "output_type": "display_data"
    },
    {
     "name": "stdout",
     "output_type": "stream",
     "text": [
      "==============soberania popular - diputados==============\n"
     ]
    },
    {
     "data": {
      "image/png": "[encoded data removed]",
      "text/plain": [
       "<PIL.Image.Image image mode=RGB size=30x30>"
      ]
     },
     "metadata": {},
     "output_type": "display_data"
    },
    {
     "data": {
      "image/png": "[encoded data removed]",
      "text/plain": [
       "<PIL.Image.Image image mode=RGB size=28x28>"
      ]
     },
     "metadata": {},
     "output_type": "display_data"
    },
    {
     "data": {
      "image/png": "[encoded data removed]",
      "text/plain": [
       "<PIL.Image.Image image mode=RGB size=36x36>"
      ]
     },
     "metadata": {},
     "output_type": "display_data"
    },
    {
     "name": "stdout",
     "output_type": "stream",
     "text": [
      "==============frente de todos - senadores==============\n"
     ]
    },
    {
     "data": {
      "image/png": "[encoded data removed]",
      "text/plain": [
       "<PIL.Image.Image image mode=RGB size=33x33>"
      ]
     },
     "metadata": {},
     "output_type": "display_data"
    },
    {
     "data": {
      "image/png": "[encoded data removed]",
      "text/plain": [
       "<PIL.Image.Image image mode=RGB size=41x41>"
      ]
     },
     "metadata": {},
     "output_type": "display_data"
    },
    {
     "data": {
      "image/png": "[encoded data removed]",
      "text/plain": [
       "<PIL.Image.Image image mode=RGB size=47x47>"
      ]
     },
     "metadata": {},
     "output_type": "display_data"
    },
    {
     "name": "stdout",
     "output_type": "stream",
     "text": [
      "==============frente de todos - diputados==============\n"
     ]
    },
    {
     "data": {
      "image/png": "[encoded data removed]",
      "text/plain": [
       "<PIL.Image.Image image mode=RGB size=33x33>"
      ]
     },
     "metadata": {},
     "output_type": "display_data"
    },
    {
     "data": {
      "image/png": "[encoded data removed]",
      "text/plain": [
       "<PIL.Image.Image image mode=RGB size=39x39>"
      ]
     },
     "metadata": {},
     "output_type": "display_data"
    },
    {
     "data": {
      "image/png": "[encoded data removed]",
      "text/plain": [
       "<PIL.Image.Image image mode=RGB size=31x31>"
      ]
     },
     "metadata": {},
     "output_type": "display_data"
    }
   ],
   "source": [
    "for x in df.query(\"id_telegrama == '2100100067X'\").itertuples():\n",
    "    print(f\"=============={x.partido} - {x.tipo}==============\")\n",
    "    for digito in x.digitos:\n",
    "        imgshow(digito)"
   ]
  },
  {
   "cell_type": "code",
   "execution_count": 34,
   "id": "f638f116",
   "metadata": {
    "scrolled": true
   },
   "outputs": [
    {
     "name": "stdout",
     "output_type": "stream",
     "text": [
      "===============Index: 363===============\n",
      "Archivo: 2100100021X\n",
      "Partido: frente amplio progresista\n",
      "Tipo: diputados\n",
      "\n",
      "\n",
      "Proporcion blanco: 0.7988888888888889\n"
     ]
    },
    {
     "data": {
      "image/png": "[encoded data removed]",
      "text/plain": [
       "<PIL.Image.Image image mode=RGB size=30x30>"
      ]
     },
     "metadata": {},
     "output_type": "display_data"
    },
    {
     "name": "stdout",
     "output_type": "stream",
     "text": [
      "Proporcion blanco: 0.9094229364499635\n"
     ]
    },
    {
     "data": {
      "image/png": "[encoded data removed]",
      "text/plain": [
       "<PIL.Image.Image image mode=RGB size=37x37>"
      ]
     },
     "metadata": {},
     "output_type": "display_data"
    },
    {
     "name": "stdout",
     "output_type": "stream",
     "text": [
      "Proporcion blanco: 0.4097959183673469\n"
     ]
    },
    {
     "data": {
      "image/png": "[encoded data removed]",
      "text/plain": [
       "<PIL.Image.Image image mode=RGB size=35x35>"
      ]
     },
     "metadata": {},
     "output_type": "display_data"
    },
    {
     "name": "stdout",
     "output_type": "stream",
     "text": [
      "===============Index: 1186===============\n",
      "Archivo: 2100100067X\n",
      "Partido: frente de todos\n",
      "Tipo: senadores\n",
      "\n",
      "\n",
      "Proporcion blanco: 0.4008102414519527\n"
     ]
    },
    {
     "data": {
      "image/png": "[encoded data removed]",
      "text/plain": [
       "<PIL.Image.Image image mode=RGB size=33x33>"
      ]
     },
     "metadata": {},
     "output_type": "display_data"
    },
    {
     "name": "stdout",
     "output_type": "stream",
     "text": [
      "Proporcion blanco: 0.4851920542160945\n"
     ]
    },
    {
     "data": {
      "image/png": "[encoded data removed]",
      "text/plain": [
       "<PIL.Image.Image image mode=RGB size=41x41>"
      ]
     },
     "metadata": {},
     "output_type": "display_data"
    },
    {
     "name": "stdout",
     "output_type": "stream",
     "text": [
      "Proporcion blanco: 0.6735813383750965\n"
     ]
    },
    {
     "data": {
      "image/png": "[encoded data removed]",
      "text/plain": [
       "<PIL.Image.Image image mode=RGB size=47x47>"
      ]
     },
     "metadata": {},
     "output_type": "display_data"
    },
    {
     "name": "stdout",
     "output_type": "stream",
     "text": [
      "===============Index: 1187===============\n",
      "Archivo: 2100100067X\n",
      "Partido: frente de todos\n",
      "Tipo: diputados\n",
      "\n",
      "\n",
      "Proporcion blanco: 0.3671654152937575\n"
     ]
    },
    {
     "data": {
      "image/png": "[encoded data removed]",
      "text/plain": [
       "<PIL.Image.Image image mode=RGB size=33x33>"
      ]
     },
     "metadata": {},
     "output_type": "display_data"
    },
    {
     "name": "stdout",
     "output_type": "stream",
     "text": [
      "Proporcion blanco: 0.4763197586726998\n"
     ]
    },
    {
     "data": {
      "image/png": "[encoded data removed]",
      "text/plain": [
       "<PIL.Image.Image image mode=RGB size=39x39>"
      ]
     },
     "metadata": {},
     "output_type": "display_data"
    },
    {
     "name": "stdout",
     "output_type": "stream",
     "text": [
      "Proporcion blanco: 0.6848829854522455\n"
     ]
    },
    {
     "data": {
      "image/png": "[encoded data removed]",
      "text/plain": [
       "<PIL.Image.Image image mode=RGB size=31x31>"
      ]
     },
     "metadata": {},
     "output_type": "display_data"
    },
    {
     "name": "stdout",
     "output_type": "stream",
     "text": [
      "===============Index: 4292===============\n",
      "Archivo: 2100200246X\n",
      "Partido: primero santa fe\n",
      "Tipo: senadores\n",
      "\n",
      "\n",
      "Proporcion blanco: 0.4759252813551456\n"
     ]
    },
    {
     "data": {
      "image/png": "[encoded data removed]",
      "text/plain": [
       "<PIL.Image.Image image mode=RGB size=13x13>"
      ]
     },
     "metadata": {},
     "output_type": "display_data"
    },
    {
     "name": "stdout",
     "output_type": "stream",
     "text": [
      "Proporcion blanco: 0.10228091236494598\n"
     ]
    },
    {
     "data": {
      "image/png": "[encoded data removed]",
      "text/plain": [
       "<PIL.Image.Image image mode=RGB size=7x7>"
      ]
     },
     "metadata": {},
     "output_type": "display_data"
    },
    {
     "name": "stdout",
     "output_type": "stream",
     "text": [
      "Proporcion blanco: 0.4110980392156863\n"
     ]
    },
    {
     "data": {
      "image/png": "[encoded data removed]",
      "text/plain": [
       "<PIL.Image.Image image mode=RGB size=10x10>"
      ]
     },
     "metadata": {},
     "output_type": "display_data"
    },
    {
     "name": "stdout",
     "output_type": "stream",
     "text": [
      "Proporcion blanco: 0.21752450980392157\n"
     ]
    },
    {
     "data": {
      "image/png": "[encoded data removed]",
      "text/plain": [
       "<PIL.Image.Image image mode=RGB size=8x8>"
      ]
     },
     "metadata": {},
     "output_type": "display_data"
    },
    {
     "name": "stdout",
     "output_type": "stream",
     "text": [
      "Proporcion blanco: 0.4391356542617047\n"
     ]
    },
    {
     "data": {
      "image/png": "[encoded data removed]",
      "text/plain": [
       "<PIL.Image.Image image mode=RGB size=7x7>"
      ]
     },
     "metadata": {},
     "output_type": "display_data"
    },
    {
     "name": "stdout",
     "output_type": "stream",
     "text": [
      "Proporcion blanco: 0.32292917166866747\n"
     ]
    },
    {
     "data": {
      "image/png": "[encoded data removed]",
      "text/plain": [
       "<PIL.Image.Image image mode=RGB size=7x7>"
      ]
     },
     "metadata": {},
     "output_type": "display_data"
    },
    {
     "name": "stdout",
     "output_type": "stream",
     "text": [
      "Proporcion blanco: 0.5140819964349376\n"
     ]
    },
    {
     "data": {
      "image/png": "[encoded data removed]",
      "text/plain": [
       "<PIL.Image.Image image mode=RGB size=11x11>"
      ]
     },
     "metadata": {},
     "output_type": "display_data"
    },
    {
     "name": "stdout",
     "output_type": "stream",
     "text": [
      "Proporcion blanco: 0.2954781912765106\n"
     ]
    },
    {
     "data": {
      "image/png": "[encoded data removed]",
      "text/plain": [
       "<PIL.Image.Image image mode=RGB size=7x7>"
      ]
     },
     "metadata": {},
     "output_type": "display_data"
    },
    {
     "name": "stdout",
     "output_type": "stream",
     "text": [
      "===============Index: 4298===============\n",
      "Archivo: 2100200246X\n",
      "Partido: soberania popular\n",
      "Tipo: senadores\n",
      "\n",
      "\n",
      "Proporcion blanco: 0.7343947496353913\n"
     ]
    },
    {
     "data": {
      "image/png": "[encoded data removed]",
      "text/plain": [
       "<PIL.Image.Image image mode=RGB size=22x22>"
      ]
     },
     "metadata": {},
     "output_type": "display_data"
    },
    {
     "name": "stdout",
     "output_type": "stream",
     "text": [
      "Proporcion blanco: 0.36562575647542966\n"
     ]
    },
    {
     "data": {
      "image/png": "[encoded data removed]",
      "text/plain": [
       "<PIL.Image.Image image mode=RGB size=9x9>"
      ]
     },
     "metadata": {},
     "output_type": "display_data"
    },
    {
     "name": "stdout",
     "output_type": "stream",
     "text": [
      "Proporcion blanco: 0.6356158088235294\n"
     ]
    },
    {
     "data": {
      "image/png": "[encoded data removed]",
      "text/plain": [
       "<PIL.Image.Image image mode=RGB size=16x16>"
      ]
     },
     "metadata": {},
     "output_type": "display_data"
    },
    {
     "name": "stdout",
     "output_type": "stream",
     "text": [
      "Proporcion blanco: 0.7193960132529466\n"
     ]
    },
    {
     "data": {
      "image/png": "[encoded data removed]",
      "text/plain": [
       "<PIL.Image.Image image mode=RGB size=19x19>"
      ]
     },
     "metadata": {},
     "output_type": "display_data"
    },
    {
     "name": "stdout",
     "output_type": "stream",
     "text": [
      "Proporcion blanco: 0.538925629423367\n"
     ]
    },
    {
     "data": {
      "image/png": "[encoded data removed]",
      "text/plain": [
       "<PIL.Image.Image image mode=RGB size=13x13>"
      ]
     },
     "metadata": {},
     "output_type": "display_data"
    },
    {
     "name": "stdout",
     "output_type": "stream",
     "text": [
      "Proporcion blanco: 0.720645266416816\n"
     ]
    },
    {
     "data": {
      "image/png": "[encoded data removed]",
      "text/plain": [
       "<PIL.Image.Image image mode=RGB size=19x19>"
      ]
     },
     "metadata": {},
     "output_type": "display_data"
    },
    {
     "name": "stdout",
     "output_type": "stream",
     "text": [
      "Proporcion blanco: 0.6843951985226223\n"
     ]
    },
    {
     "data": {
      "image/png": "[encoded data removed]",
      "text/plain": [
       "<PIL.Image.Image image mode=RGB size=19x19>"
      ]
     },
     "metadata": {},
     "output_type": "display_data"
    },
    {
     "name": "stdout",
     "output_type": "stream",
     "text": [
      "Proporcion blanco: 0.41658823529411765\n"
     ]
    },
    {
     "data": {
      "image/png": "[encoded data removed]",
      "text/plain": [
       "<PIL.Image.Image image mode=RGB size=10x10>"
      ]
     },
     "metadata": {},
     "output_type": "display_data"
    },
    {
     "name": "stdout",
     "output_type": "stream",
     "text": [
      "Proporcion blanco: 0.25\n"
     ]
    },
    {
     "data": {
      "image/png": "[encoded data removed]",
      "text/plain": [
       "<PIL.Image.Image image mode=RGB size=8x8>"
      ]
     },
     "metadata": {},
     "output_type": "display_data"
    },
    {
     "name": "stdout",
     "output_type": "stream",
     "text": [
      "Proporcion blanco: 0.25\n"
     ]
    },
    {
     "data": {
      "image/png": "[encoded data removed]",
      "text/plain": [
       "<PIL.Image.Image image mode=RGB size=8x8>"
      ]
     },
     "metadata": {},
     "output_type": "display_data"
    }
   ],
   "source": [
    "idxs_blanco_sospechoso = df.query(f\"min_prop_blanco_digitos < {UMBRAL_PROP_BLANCO_MINIMO}\").head().index.values\n",
    "\n",
    "plot_digitos(df, idxs_blanco_sospechoso)"
   ]
  },
  {
   "cell_type": "markdown",
   "id": "9cdccf5e",
   "metadata": {},
   "source": [
    "A diferencia con el `max_prop_blanco_digitos` aca no podemos filtrar el digito solamente, ya que por lo visto todo el voto posee verdura."
   ]
  },
  {
   "cell_type": "code",
   "execution_count": 35,
   "id": "22a8f218",
   "metadata": {},
   "outputs": [],
   "source": [
    "df = df.query(f\"min_prop_blanco_digitos >= {UMBRAL_PROP_BLANCO_MINIMO}\").copy()"
   ]
  },
  {
   "cell_type": "markdown",
   "id": "2169c9bd",
   "metadata": {},
   "source": [
    "Ahora vamos a ver el size de los digitos."
   ]
  },
  {
   "cell_type": "code",
   "execution_count": 36,
   "id": "c475142d",
   "metadata": {
    "scrolled": true
   },
   "outputs": [
    {
     "data": {
      "image/png": "[encoded data removed]",
      "text/plain": [
       "<Figure size 1080x360 with 2 Axes>"
      ]
     },
     "metadata": {
      "needs_background": "light"
     },
     "output_type": "display_data"
    }
   ],
   "source": [
    "plot_dos_histogramas(df, 'min_size_digitos', 'max_size_digitos')"
   ]
  },
  {
   "cell_type": "code",
   "execution_count": 37,
   "id": "632b0c38",
   "metadata": {},
   "outputs": [
    {
     "data": {
      "image/png": "[encoded data removed]",
      "text/plain": [
       "<Figure size 432x288 with 1 Axes>"
      ]
     },
     "metadata": {
      "needs_background": "light"
     },
     "output_type": "display_data"
    }
   ],
   "source": [
    "fig, ax = plt.subplots(figsize=(6, 4))\n",
    "df.max_size_digitos.hist(bins=100, ax=ax)\n",
    "ax.set_title(\"Histograma del máximo tamaño de imagen por voto\")\n",
    "ax.set_ylabel(\"Cantidad\")\n",
    "ax.set_xlabel(\"Máximo tamaño de imagen\")\n",
    "plt.show()"
   ]
  },
  {
   "cell_type": "code",
   "execution_count": 38,
   "id": "ad5f052a",
   "metadata": {},
   "outputs": [
    {
     "data": {
      "image/png": "[encoded data removed]",
      "text/plain": [
       "<Figure size 432x288 with 1 Axes>"
      ]
     },
     "metadata": {
      "needs_background": "light"
     },
     "output_type": "display_data"
    }
   ],
   "source": [
    "fig, ax = plt.subplots(figsize=(6, 4))\n",
    "df.max_size_digitos.hist(bins=100, ax=ax)\n",
    "ax.set_title(\"Histograma del mínimo tamaño de imagen por voto\")\n",
    "ax.set_ylabel(\"Cantidad\")\n",
    "ax.set_xlabel(\"Mínimo tamaño de imagen\")\n",
    "plt.show()"
   ]
  },
  {
   "cell_type": "code",
   "execution_count": 41,
   "id": "adad6fe7",
   "metadata": {
    "scrolled": true
   },
   "outputs": [
    {
     "data": {
      "text/html": [
       "<div>\n",
       "<style scoped>\n",
       "    .dataframe tbody tr th:only-of-type {\n",
       "        vertical-align: middle;\n",
       "    }\n",
       "\n",
       "    .dataframe tbody tr th {\n",
       "        vertical-align: top;\n",
       "    }\n",
       "\n",
       "    .dataframe thead th {\n",
       "        text-align: right;\n",
       "    }\n",
       "</style>\n",
       "<table border=\"1\" class=\"dataframe\">\n",
       "  <thead>\n",
       "    <tr style=\"text-align: right;\">\n",
       "      <th></th>\n",
       "      <th>count</th>\n",
       "      <th>mean</th>\n",
       "      <th>std</th>\n",
       "      <th>min</th>\n",
       "      <th>25%</th>\n",
       "      <th>50%</th>\n",
       "      <th>75%</th>\n",
       "      <th>max</th>\n",
       "    </tr>\n",
       "  </thead>\n",
       "  <tbody>\n",
       "    <tr>\n",
       "      <th>cant_digitos</th>\n",
       "      <td>142333.0</td>\n",
       "      <td>2.302207</td>\n",
       "      <td>0.840976</td>\n",
       "      <td>1.000000</td>\n",
       "      <td>2.000000</td>\n",
       "      <td>3.000000</td>\n",
       "      <td>3.000000</td>\n",
       "      <td>8.000000</td>\n",
       "    </tr>\n",
       "    <tr>\n",
       "      <th>min_size_digitos</th>\n",
       "      <td>142333.0</td>\n",
       "      <td>38.351233</td>\n",
       "      <td>9.609692</td>\n",
       "      <td>13.000000</td>\n",
       "      <td>32.000000</td>\n",
       "      <td>37.000000</td>\n",
       "      <td>43.000000</td>\n",
       "      <td>621.000000</td>\n",
       "    </tr>\n",
       "    <tr>\n",
       "      <th>max_size_digitos</th>\n",
       "      <td>142333.0</td>\n",
       "      <td>44.795550</td>\n",
       "      <td>10.731884</td>\n",
       "      <td>18.000000</td>\n",
       "      <td>38.000000</td>\n",
       "      <td>43.000000</td>\n",
       "      <td>49.000000</td>\n",
       "      <td>621.000000</td>\n",
       "    </tr>\n",
       "    <tr>\n",
       "      <th>min_prop_blanco_digitos</th>\n",
       "      <td>142333.0</td>\n",
       "      <td>0.816380</td>\n",
       "      <td>0.055384</td>\n",
       "      <td>0.500020</td>\n",
       "      <td>0.782946</td>\n",
       "      <td>0.819876</td>\n",
       "      <td>0.855082</td>\n",
       "      <td>0.949951</td>\n",
       "    </tr>\n",
       "    <tr>\n",
       "      <th>max_prop_blanco_digitos</th>\n",
       "      <td>142333.0</td>\n",
       "      <td>0.862847</td>\n",
       "      <td>0.043718</td>\n",
       "      <td>0.501469</td>\n",
       "      <td>0.836824</td>\n",
       "      <td>0.867921</td>\n",
       "      <td>0.894364</td>\n",
       "      <td>0.949997</td>\n",
       "    </tr>\n",
       "  </tbody>\n",
       "</table>\n",
       "</div>"
      ],
      "text/plain": [
       "                            count       mean        std        min        25%  \\\n",
       "cant_digitos             142333.0   2.302207   0.840976   1.000000   2.000000   \n",
       "min_size_digitos         142333.0  38.351233   9.609692  13.000000  32.000000   \n",
       "max_size_digitos         142333.0  44.795550  10.731884  18.000000  38.000000   \n",
       "min_prop_blanco_digitos  142333.0   0.816380   0.055384   0.500020   0.782946   \n",
       "max_prop_blanco_digitos  142333.0   0.862847   0.043718   0.501469   0.836824   \n",
       "\n",
       "                               50%        75%         max  \n",
       "cant_digitos              3.000000   3.000000    8.000000  \n",
       "min_size_digitos         37.000000  43.000000  621.000000  \n",
       "max_size_digitos         43.000000  49.000000  621.000000  \n",
       "min_prop_blanco_digitos   0.819876   0.855082    0.949951  \n",
       "max_prop_blanco_digitos   0.867921   0.894364    0.949997  "
      ]
     },
     "execution_count": 41,
     "metadata": {},
     "output_type": "execute_result"
    }
   ],
   "source": [
    "df.describe().T"
   ]
  },
  {
   "cell_type": "code",
   "execution_count": 42,
   "id": "1b304eaa",
   "metadata": {},
   "outputs": [
    {
     "data": {
      "text/plain": [
       "87.722937035817"
      ]
     },
     "execution_count": 42,
     "metadata": {},
     "output_type": "execute_result"
    }
   ],
   "source": [
    "UMBRAL_SIZE_MAXIMO = np.mean(df.max_size_digitos) + 4 * np.std(df.max_size_digitos)\n",
    "UMBRAL_SIZE_MAXIMO"
   ]
  },
  {
   "cell_type": "code",
   "execution_count": 43,
   "id": "f716f417",
   "metadata": {},
   "outputs": [
    {
     "data": {
      "text/html": [
       "<div>\n",
       "<style scoped>\n",
       "    .dataframe tbody tr th:only-of-type {\n",
       "        vertical-align: middle;\n",
       "    }\n",
       "\n",
       "    .dataframe tbody tr th {\n",
       "        vertical-align: top;\n",
       "    }\n",
       "\n",
       "    .dataframe thead th {\n",
       "        text-align: right;\n",
       "    }\n",
       "</style>\n",
       "<table border=\"1\" class=\"dataframe\">\n",
       "  <thead>\n",
       "    <tr style=\"text-align: right;\">\n",
       "      <th></th>\n",
       "      <th>count</th>\n",
       "      <th>mean</th>\n",
       "      <th>std</th>\n",
       "      <th>min</th>\n",
       "      <th>25%</th>\n",
       "      <th>50%</th>\n",
       "      <th>75%</th>\n",
       "      <th>max</th>\n",
       "    </tr>\n",
       "  </thead>\n",
       "  <tbody>\n",
       "    <tr>\n",
       "      <th>cant_digitos</th>\n",
       "      <td>1127.0</td>\n",
       "      <td>1.685004</td>\n",
       "      <td>0.863292</td>\n",
       "      <td>1.000000</td>\n",
       "      <td>1.000000</td>\n",
       "      <td>2.000000</td>\n",
       "      <td>2.000000</td>\n",
       "      <td>8.000000</td>\n",
       "    </tr>\n",
       "    <tr>\n",
       "      <th>min_size_digitos</th>\n",
       "      <td>1127.0</td>\n",
       "      <td>75.320319</td>\n",
       "      <td>37.350238</td>\n",
       "      <td>22.000000</td>\n",
       "      <td>46.000000</td>\n",
       "      <td>62.000000</td>\n",
       "      <td>101.000000</td>\n",
       "      <td>621.000000</td>\n",
       "    </tr>\n",
       "    <tr>\n",
       "      <th>max_size_digitos</th>\n",
       "      <td>1127.0</td>\n",
       "      <td>103.698314</td>\n",
       "      <td>23.247938</td>\n",
       "      <td>88.000000</td>\n",
       "      <td>92.000000</td>\n",
       "      <td>97.000000</td>\n",
       "      <td>109.000000</td>\n",
       "      <td>621.000000</td>\n",
       "    </tr>\n",
       "    <tr>\n",
       "      <th>min_prop_blanco_digitos</th>\n",
       "      <td>1127.0</td>\n",
       "      <td>0.874100</td>\n",
       "      <td>0.061982</td>\n",
       "      <td>0.577621</td>\n",
       "      <td>0.842861</td>\n",
       "      <td>0.891542</td>\n",
       "      <td>0.919631</td>\n",
       "      <td>0.949951</td>\n",
       "    </tr>\n",
       "    <tr>\n",
       "      <th>max_prop_blanco_digitos</th>\n",
       "      <td>1127.0</td>\n",
       "      <td>0.916346</td>\n",
       "      <td>0.025290</td>\n",
       "      <td>0.747708</td>\n",
       "      <td>0.906439</td>\n",
       "      <td>0.920652</td>\n",
       "      <td>0.933612</td>\n",
       "      <td>0.949951</td>\n",
       "    </tr>\n",
       "  </tbody>\n",
       "</table>\n",
       "</div>"
      ],
      "text/plain": [
       "                          count        mean        std        min        25%  \\\n",
       "cant_digitos             1127.0    1.685004   0.863292   1.000000   1.000000   \n",
       "min_size_digitos         1127.0   75.320319  37.350238  22.000000  46.000000   \n",
       "max_size_digitos         1127.0  103.698314  23.247938  88.000000  92.000000   \n",
       "min_prop_blanco_digitos  1127.0    0.874100   0.061982   0.577621   0.842861   \n",
       "max_prop_blanco_digitos  1127.0    0.916346   0.025290   0.747708   0.906439   \n",
       "\n",
       "                               50%         75%         max  \n",
       "cant_digitos              2.000000    2.000000    8.000000  \n",
       "min_size_digitos         62.000000  101.000000  621.000000  \n",
       "max_size_digitos         97.000000  109.000000  621.000000  \n",
       "min_prop_blanco_digitos   0.891542    0.919631    0.949951  \n",
       "max_prop_blanco_digitos   0.920652    0.933612    0.949951  "
      ]
     },
     "execution_count": 43,
     "metadata": {},
     "output_type": "execute_result"
    }
   ],
   "source": [
    "df.query(f\"max_size_digitos > {UMBRAL_SIZE_MAXIMO}\").describe().T"
   ]
  },
  {
   "cell_type": "code",
   "execution_count": 44,
   "id": "69082957",
   "metadata": {},
   "outputs": [
    {
     "name": "stdout",
     "output_type": "stream",
     "text": [
      "===============Index: 780===============\n",
      "Archivo: 2100100044X\n",
      "Partido: juntos\n",
      "Tipo: senadores\n",
      "\n",
      "\n",
      "Proporcion blanco: 0.9113263080765699\n"
     ]
    },
    {
     "data": {
      "image/png": "[encoded data removed]",
      "text/plain": [
       "<PIL.Image.Image image mode=RGB size=89x89>"
      ]
     },
     "metadata": {},
     "output_type": "display_data"
    },
    {
     "name": "stdout",
     "output_type": "stream",
     "text": [
      "===============Index: 2686===============\n",
      "Archivo: 2100200153X\n",
      "Partido: fit\n",
      "Tipo: senadores\n",
      "\n",
      "\n",
      "Proporcion blanco: 0.9047882674864373\n"
     ]
    },
    {
     "data": {
      "image/png": "[encoded data removed]",
      "text/plain": [
       "<PIL.Image.Image image mode=RGB size=93x93>"
      ]
     },
     "metadata": {},
     "output_type": "display_data"
    },
    {
     "name": "stdout",
     "output_type": "stream",
     "text": [
      "===============Index: 2687===============\n",
      "Archivo: 2100200153X\n",
      "Partido: fit\n",
      "Tipo: diputados\n",
      "\n",
      "\n",
      "Proporcion blanco: 0.9018365179678739\n"
     ]
    },
    {
     "data": {
      "image/png": "[encoded data removed]",
      "text/plain": [
       "<PIL.Image.Image image mode=RGB size=89x89>"
      ]
     },
     "metadata": {},
     "output_type": "display_data"
    },
    {
     "name": "stdout",
     "output_type": "stream",
     "text": [
      "===============Index: 2688===============\n",
      "Archivo: 2100200153X\n",
      "Partido: juntos\n",
      "Tipo: senadores\n",
      "\n",
      "\n",
      "Proporcion blanco: 0.9069670636849781\n"
     ]
    },
    {
     "data": {
      "image/png": "[encoded data removed]",
      "text/plain": [
       "<PIL.Image.Image image mode=RGB size=88x88>"
      ]
     },
     "metadata": {},
     "output_type": "display_data"
    },
    {
     "name": "stdout",
     "output_type": "stream",
     "text": [
      "===============Index: 3003===============\n",
      "Archivo: 2100200173X\n",
      "Partido: soberania popular\n",
      "Tipo: diputados\n",
      "\n",
      "\n",
      "Proporcion blanco: 0.9420549469787916\n"
     ]
    },
    {
     "data": {
      "image/png": "[encoded data removed]",
      "text/plain": [
       "<PIL.Image.Image image mode=RGB size=112x112>"
      ]
     },
     "metadata": {},
     "output_type": "display_data"
    },
    {
     "name": "stdout",
     "output_type": "stream",
     "text": [
      "===============Index: 4284===============\n",
      "Archivo: 2100200246X\n",
      "Partido: unite\n",
      "Tipo: senadores\n",
      "\n",
      "\n",
      "Proporcion blanco: 0.9033421786492375\n"
     ]
    },
    {
     "data": {
      "image/png": "[encoded data removed]",
      "text/plain": [
       "<PIL.Image.Image image mode=RGB size=300x300>"
      ]
     },
     "metadata": {},
     "output_type": "display_data"
    },
    {
     "name": "stdout",
     "output_type": "stream",
     "text": [
      "===============Index: 4289===============\n",
      "Archivo: 2100200246X\n",
      "Partido: fit\n",
      "Tipo: diputados\n",
      "\n",
      "\n",
      "Proporcion blanco: 0.9016020640145302\n"
     ]
    },
    {
     "data": {
      "image/png": "[encoded data removed]",
      "text/plain": [
       "<PIL.Image.Image image mode=RGB size=621x621>"
      ]
     },
     "metadata": {},
     "output_type": "display_data"
    },
    {
     "name": "stdout",
     "output_type": "stream",
     "text": [
      "===============Index: 4294===============\n",
      "Archivo: 2100200246X\n",
      "Partido: somos futuro\n",
      "Tipo: senadores\n",
      "\n",
      "\n",
      "Proporcion blanco: 0.9340880870306535\n"
     ]
    },
    {
     "data": {
      "image/png": "[encoded data removed]",
      "text/plain": [
       "<PIL.Image.Image image mode=RGB size=92x92>"
      ]
     },
     "metadata": {},
     "output_type": "display_data"
    },
    {
     "name": "stdout",
     "output_type": "stream",
     "text": [
      "Proporcion blanco: 0.9417573900039964\n"
     ]
    },
    {
     "data": {
      "image/png": "[encoded data removed]",
      "text/plain": [
       "<PIL.Image.Image image mode=RGB size=156x156>"
      ]
     },
     "metadata": {},
     "output_type": "display_data"
    },
    {
     "name": "stdout",
     "output_type": "stream",
     "text": [
      "Proporcion blanco: 0.9284587259976582\n"
     ]
    },
    {
     "data": {
      "image/png": "[encoded data removed]",
      "text/plain": [
       "<PIL.Image.Image image mode=RGB size=89x89>"
      ]
     },
     "metadata": {},
     "output_type": "display_data"
    },
    {
     "name": "stdout",
     "output_type": "stream",
     "text": [
      "===============Index: 10353===============\n",
      "Archivo: 2100300588X\n",
      "Partido: somos futuro\n",
      "Tipo: diputados\n",
      "\n",
      "\n",
      "Proporcion blanco: 0.9394257762022409\n"
     ]
    },
    {
     "data": {
      "image/png": "[encoded data removed]",
      "text/plain": [
       "<PIL.Image.Image image mode=RGB size=109x109>"
      ]
     },
     "metadata": {},
     "output_type": "display_data"
    },
    {
     "name": "stdout",
     "output_type": "stream",
     "text": [
      "===============Index: 11654===============\n",
      "Archivo: 2100300660X\n",
      "Partido: frente de todos\n",
      "Tipo: senadores\n",
      "\n",
      "\n",
      "Proporcion blanco: 0.9499509992386036\n"
     ]
    },
    {
     "data": {
      "image/png": "[encoded data removed]",
      "text/plain": [
       "<PIL.Image.Image image mode=RGB size=102x102>"
      ]
     },
     "metadata": {},
     "output_type": "display_data"
    }
   ],
   "source": [
    "idxs_size_sospechoso = df.query(f\"max_size_digitos > {UMBRAL_SIZE_MAXIMO}\").head(10).index.values\n",
    "\n",
    "plot_digitos(df, idxs_size_sospechoso)"
   ]
  },
  {
   "cell_type": "markdown",
   "id": "53529362",
   "metadata": {},
   "source": [
    "Aca parecen haber muchos errores, numeros muy pegados o cosas raras. \n",
    "\n",
    "Los eliminamos."
   ]
  },
  {
   "cell_type": "code",
   "execution_count": 35,
   "id": "7bbb37d8",
   "metadata": {},
   "outputs": [],
   "source": [
    "df = df.query(f\"max_size_digitos <= {UMBRAL_SIZE_MAXIMO}\").copy()"
   ]
  },
  {
   "cell_type": "markdown",
   "id": "955ac35e",
   "metadata": {},
   "source": [
    "Ahora vamos a ver que pasa con la cantidad de digitos."
   ]
  },
  {
   "cell_type": "code",
   "execution_count": 36,
   "id": "1997713a",
   "metadata": {},
   "outputs": [
    {
     "data": {
      "text/plain": [
       "3     74810\n",
       "1     33175\n",
       "2     32666\n",
       "4       497\n",
       "5       157\n",
       "6        59\n",
       "7        21\n",
       "8         6\n",
       "10        1\n",
       "14        1\n",
       "Name: cant_digitos, dtype: int64"
      ]
     },
     "execution_count": 36,
     "metadata": {},
     "output_type": "execute_result"
    }
   ],
   "source": [
    "df.cant_digitos.value_counts()"
   ]
  },
  {
   "cell_type": "markdown",
   "id": "acca5cfe",
   "metadata": {},
   "source": [
    "Cada voto deberia tener como maximo 3 digitos. Vamos a ver que pasa con esos que superan los 3 digitos."
   ]
  },
  {
   "cell_type": "code",
   "execution_count": 37,
   "id": "9731bbb6",
   "metadata": {
    "scrolled": true
   },
   "outputs": [
    {
     "data": {
      "text/plain": [
       "id_telegrama\n",
       "2100100007X     1\n",
       "2100100009X     1\n",
       "2100100011X     2\n",
       "2100100042X     1\n",
       "2100100049X     1\n",
       "               ..\n",
       "2102107992X    16\n",
       "2102208077X     1\n",
       "2102208097X     1\n",
       "2102208130X     1\n",
       "2102208163X     2\n",
       "Length: 304, dtype: int64"
      ]
     },
     "execution_count": 37,
     "metadata": {},
     "output_type": "execute_result"
    }
   ],
   "source": [
    "df_cant_sospechoso = df.query(\"cant_digitos > 3\").copy()\n",
    "\n",
    "df_cant_sospechoso.groupby(['id_telegrama']).size()"
   ]
  },
  {
   "cell_type": "code",
   "execution_count": 38,
   "id": "73b5a847",
   "metadata": {},
   "outputs": [
    {
     "name": "stdout",
     "output_type": "stream",
     "text": [
      "===============Index: 114===============\n",
      "Archivo: 2100100007X\n",
      "Partido: juntos\n",
      "Tipo: senadores\n",
      "\n",
      "\n",
      "Proporcion blanco: 0.7975056886952312\n"
     ]
    },
    {
     "data": {
      "image/png": "[encoded data removed]",
      "text/plain": [
       "<PIL.Image.Image image mode=RGB size=45x45>"
      ]
     },
     "metadata": {},
     "output_type": "display_data"
    },
    {
     "name": "stdout",
     "output_type": "stream",
     "text": [
      "Proporcion blanco: 0.8949312428184885\n"
     ]
    },
    {
     "data": {
      "image/png": "[encoded data removed]",
      "text/plain": [
       "<PIL.Image.Image image mode=RGB size=46x46>"
      ]
     },
     "metadata": {},
     "output_type": "display_data"
    },
    {
     "name": "stdout",
     "output_type": "stream",
     "text": [
      "Proporcion blanco: 0.7772363383223112\n"
     ]
    },
    {
     "data": {
      "image/png": "[encoded data removed]",
      "text/plain": [
       "<PIL.Image.Image image mode=RGB size=39x39>"
      ]
     },
     "metadata": {},
     "output_type": "display_data"
    },
    {
     "name": "stdout",
     "output_type": "stream",
     "text": [
      "Proporcion blanco: 0.7776955226535058\n"
     ]
    },
    {
     "data": {
      "image/png": "[encoded data removed]",
      "text/plain": [
       "<PIL.Image.Image image mode=RGB size=42x42>"
      ]
     },
     "metadata": {},
     "output_type": "display_data"
    },
    {
     "name": "stdout",
     "output_type": "stream",
     "text": [
      "===============Index: 160===============\n",
      "Archivo: 2100100009X\n",
      "Partido: frente de todos\n",
      "Tipo: senadores\n",
      "\n",
      "\n",
      "Proporcion blanco: 0.9136054421768708\n"
     ]
    },
    {
     "data": {
      "image/png": "[encoded data removed]",
      "text/plain": [
       "<PIL.Image.Image image mode=RGB size=42x42>"
      ]
     },
     "metadata": {},
     "output_type": "display_data"
    },
    {
     "name": "stdout",
     "output_type": "stream",
     "text": [
      "Proporcion blanco: 0.9027450980392157\n"
     ]
    },
    {
     "data": {
      "image/png": "[encoded data removed]",
      "text/plain": [
       "<PIL.Image.Image image mode=RGB size=45x45>"
      ]
     },
     "metadata": {},
     "output_type": "display_data"
    },
    {
     "name": "stdout",
     "output_type": "stream",
     "text": [
      "Proporcion blanco: 0.8161237064270153\n"
     ]
    },
    {
     "data": {
      "image/png": "[encoded data removed]",
      "text/plain": [
       "<PIL.Image.Image image mode=RGB size=48x48>"
      ]
     },
     "metadata": {},
     "output_type": "display_data"
    },
    {
     "name": "stdout",
     "output_type": "stream",
     "text": [
      "Proporcion blanco: 0.896644154389894\n"
     ]
    },
    {
     "data": {
      "image/png": "[encoded data removed]",
      "text/plain": [
       "<PIL.Image.Image image mode=RGB size=41x41>"
      ]
     },
     "metadata": {},
     "output_type": "display_data"
    },
    {
     "name": "stdout",
     "output_type": "stream",
     "text": [
      "===============Index: 186===============\n",
      "Archivo: 2100100011X\n",
      "Partido: juntos\n",
      "Tipo: senadores\n",
      "\n",
      "\n",
      "Proporcion blanco: 0.8939137847955817\n"
     ]
    },
    {
     "data": {
      "image/png": "[encoded data removed]",
      "text/plain": [
       "<PIL.Image.Image image mode=RGB size=46x46>"
      ]
     },
     "metadata": {},
     "output_type": "display_data"
    },
    {
     "name": "stdout",
     "output_type": "stream",
     "text": [
      "Proporcion blanco: 0.886594637855142\n"
     ]
    },
    {
     "data": {
      "image/png": "[encoded data removed]",
      "text/plain": [
       "<PIL.Image.Image image mode=RGB size=42x42>"
      ]
     },
     "metadata": {},
     "output_type": "display_data"
    },
    {
     "name": "stdout",
     "output_type": "stream",
     "text": [
      "Proporcion blanco: 0.8755438112745098\n"
     ]
    },
    {
     "data": {
      "image/png": "[encoded data removed]",
      "text/plain": [
       "<PIL.Image.Image image mode=RGB size=32x32>"
      ]
     },
     "metadata": {},
     "output_type": "display_data"
    },
    {
     "name": "stdout",
     "output_type": "stream",
     "text": [
      "Proporcion blanco: 0.9272929723538956\n"
     ]
    },
    {
     "data": {
      "image/png": "[encoded data removed]",
      "text/plain": [
       "<PIL.Image.Image image mode=RGB size=43x43>"
      ]
     },
     "metadata": {},
     "output_type": "display_data"
    },
    {
     "name": "stdout",
     "output_type": "stream",
     "text": [
      "===============Index: 187===============\n",
      "Archivo: 2100100011X\n",
      "Partido: juntos\n",
      "Tipo: diputados\n",
      "\n",
      "\n",
      "Proporcion blanco: 0.9107509077705156\n"
     ]
    },
    {
     "data": {
      "image/png": "[encoded data removed]",
      "text/plain": [
       "<PIL.Image.Image image mode=RGB size=45x45>"
      ]
     },
     "metadata": {},
     "output_type": "display_data"
    },
    {
     "name": "stdout",
     "output_type": "stream",
     "text": [
      "Proporcion blanco: 0.8663540609581132\n"
     ]
    },
    {
     "data": {
      "image/png": "[encoded data removed]",
      "text/plain": [
       "<PIL.Image.Image image mode=RGB size=41x41>"
      ]
     },
     "metadata": {},
     "output_type": "display_data"
    },
    {
     "name": "stdout",
     "output_type": "stream",
     "text": [
      "Proporcion blanco: 0.8578736383442266\n"
     ]
    },
    {
     "data": {
      "image/png": "[encoded data removed]",
      "text/plain": [
       "<PIL.Image.Image image mode=RGB size=30x30>"
      ]
     },
     "metadata": {},
     "output_type": "display_data"
    },
    {
     "name": "stdout",
     "output_type": "stream",
     "text": [
      "Proporcion blanco: 0.9160882081364402\n"
     ]
    },
    {
     "data": {
      "image/png": "[encoded data removed]",
      "text/plain": [
       "<PIL.Image.Image image mode=RGB size=38x38>"
      ]
     },
     "metadata": {},
     "output_type": "display_data"
    },
    {
     "name": "stdout",
     "output_type": "stream",
     "text": [
      "===============Index: 749===============\n",
      "Archivo: 2100100042X\n",
      "Partido: somos futuro\n",
      "Tipo: diputados\n",
      "\n",
      "\n",
      "Proporcion blanco: 0.8903381796201444\n"
     ]
    },
    {
     "data": {
      "image/png": "[encoded data removed]",
      "text/plain": [
       "<PIL.Image.Image image mode=RGB size=43x43>"
      ]
     },
     "metadata": {},
     "output_type": "display_data"
    },
    {
     "name": "stdout",
     "output_type": "stream",
     "text": [
      "Proporcion blanco: 0.8648576678294677\n"
     ]
    },
    {
     "data": {
      "image/png": "[encoded data removed]",
      "text/plain": [
       "<PIL.Image.Image image mode=RGB size=47x47>"
      ]
     },
     "metadata": {},
     "output_type": "display_data"
    },
    {
     "name": "stdout",
     "output_type": "stream",
     "text": [
      "Proporcion blanco: 0.8073428131583211\n"
     ]
    },
    {
     "data": {
      "image/png": "[encoded data removed]",
      "text/plain": [
       "<PIL.Image.Image image mode=RGB size=44x44>"
      ]
     },
     "metadata": {},
     "output_type": "display_data"
    },
    {
     "name": "stdout",
     "output_type": "stream",
     "text": [
      "Proporcion blanco: 0.8493886443466275\n"
     ]
    },
    {
     "data": {
      "image/png": "[encoded data removed]",
      "text/plain": [
       "<PIL.Image.Image image mode=RGB size=63x63>"
      ]
     },
     "metadata": {},
     "output_type": "display_data"
    },
    {
     "name": "stdout",
     "output_type": "stream",
     "text": [
      "===============Index: 872===============\n",
      "Archivo: 2100100049X\n",
      "Partido: primero santa fe\n",
      "Tipo: senadores\n",
      "\n",
      "\n",
      "Proporcion blanco: 0.9258430015604858\n"
     ]
    },
    {
     "data": {
      "image/png": "[encoded data removed]",
      "text/plain": [
       "<PIL.Image.Image image mode=RGB size=34x34>"
      ]
     },
     "metadata": {},
     "output_type": "display_data"
    },
    {
     "name": "stdout",
     "output_type": "stream",
     "text": [
      "Proporcion blanco: 0.9426713725490196\n"
     ]
    },
    {
     "data": {
      "image/png": "[encoded data removed]",
      "text/plain": [
       "<PIL.Image.Image image mode=RGB size=50x50>"
      ]
     },
     "metadata": {},
     "output_type": "display_data"
    },
    {
     "name": "stdout",
     "output_type": "stream",
     "text": [
      "Proporcion blanco: 0.8910974720466699\n"
     ]
    },
    {
     "data": {
      "image/png": "[encoded data removed]",
      "text/plain": [
       "<PIL.Image.Image image mode=RGB size=44x44>"
      ]
     },
     "metadata": {},
     "output_type": "display_data"
    },
    {
     "name": "stdout",
     "output_type": "stream",
     "text": [
      "Proporcion blanco: 0.9436810103854237\n"
     ]
    },
    {
     "data": {
      "image/png": "[encoded data removed]",
      "text/plain": [
       "<PIL.Image.Image image mode=RGB size=62x62>"
      ]
     },
     "metadata": {},
     "output_type": "display_data"
    },
    {
     "name": "stdout",
     "output_type": "stream",
     "text": [
      "===============Index: 2354===============\n",
      "Archivo: 2100200134X\n",
      "Partido: soberania popular\n",
      "Tipo: senadores\n",
      "\n",
      "\n",
      "Proporcion blanco: 0.8015315001740341\n"
     ]
    },
    {
     "data": {
      "image/png": "[encoded data removed]",
      "text/plain": [
       "<PIL.Image.Image image mode=RGB size=39x39>"
      ]
     },
     "metadata": {},
     "output_type": "display_data"
    },
    {
     "name": "stdout",
     "output_type": "stream",
     "text": [
      "Proporcion blanco: 0.8191179121729817\n"
     ]
    },
    {
     "data": {
      "image/png": "[encoded data removed]",
      "text/plain": [
       "<PIL.Image.Image image mode=RGB size=43x43>"
      ]
     },
     "metadata": {},
     "output_type": "display_data"
    },
    {
     "name": "stdout",
     "output_type": "stream",
     "text": [
      "Proporcion blanco: 0.9044630096936734\n"
     ]
    },
    {
     "data": {
      "image/png": "[encoded data removed]",
      "text/plain": [
       "<PIL.Image.Image image mode=RGB size=49x49>"
      ]
     },
     "metadata": {},
     "output_type": "display_data"
    },
    {
     "name": "stdout",
     "output_type": "stream",
     "text": [
      "Proporcion blanco: 0.8638985005767013\n"
     ]
    },
    {
     "data": {
      "image/png": "[encoded data removed]",
      "text/plain": [
       "<PIL.Image.Image image mode=RGB size=51x51>"
      ]
     },
     "metadata": {},
     "output_type": "display_data"
    },
    {
     "name": "stdout",
     "output_type": "stream",
     "text": [
      "===============Index: 2830===============\n",
      "Archivo: 2100200162X\n",
      "Partido: fit\n",
      "Tipo: senadores\n",
      "\n",
      "\n",
      "Proporcion blanco: 0.86902599881057\n"
     ]
    },
    {
     "data": {
      "image/png": "[encoded data removed]",
      "text/plain": [
       "<PIL.Image.Image image mode=RGB size=47x47>"
      ]
     },
     "metadata": {},
     "output_type": "display_data"
    },
    {
     "name": "stdout",
     "output_type": "stream",
     "text": [
      "Proporcion blanco: 0.8310734681775406\n"
     ]
    },
    {
     "data": {
      "image/png": "[encoded data removed]",
      "text/plain": [
       "<PIL.Image.Image image mode=RGB size=39x39>"
      ]
     },
     "metadata": {},
     "output_type": "display_data"
    },
    {
     "name": "stdout",
     "output_type": "stream",
     "text": [
      "Proporcion blanco: 0.7599466251528967\n"
     ]
    },
    {
     "data": {
      "image/png": "[encoded data removed]",
      "text/plain": [
       "<PIL.Image.Image image mode=RGB size=23x23>"
      ]
     },
     "metadata": {},
     "output_type": "display_data"
    },
    {
     "name": "stdout",
     "output_type": "stream",
     "text": [
      "Proporcion blanco: 0.8495824255628177\n"
     ]
    },
    {
     "data": {
      "image/png": "[encoded data removed]",
      "text/plain": [
       "<PIL.Image.Image image mode=RGB size=36x36>"
      ]
     },
     "metadata": {},
     "output_type": "display_data"
    },
    {
     "name": "stdout",
     "output_type": "stream",
     "text": [
      "===============Index: 3746===============\n",
      "Archivo: 2100200215X\n",
      "Partido: frente amplio progresista\n",
      "Tipo: senadores\n",
      "\n",
      "\n",
      "Proporcion blanco: 0.949343487394958\n"
     ]
    },
    {
     "data": {
      "image/png": "[encoded data removed]",
      "text/plain": [
       "<PIL.Image.Image image mode=RGB size=56x56>"
      ]
     },
     "metadata": {},
     "output_type": "display_data"
    },
    {
     "name": "stdout",
     "output_type": "stream",
     "text": [
      "Proporcion blanco: 0.9291038489469862\n"
     ]
    },
    {
     "data": {
      "image/png": "[encoded data removed]",
      "text/plain": [
       "<PIL.Image.Image image mode=RGB size=45x45>"
      ]
     },
     "metadata": {},
     "output_type": "display_data"
    },
    {
     "name": "stdout",
     "output_type": "stream",
     "text": [
      "Proporcion blanco: 0.937334247828075\n"
     ]
    },
    {
     "data": {
      "image/png": "[encoded data removed]",
      "text/plain": [
       "<PIL.Image.Image image mode=RGB size=54x54>"
      ]
     },
     "metadata": {},
     "output_type": "display_data"
    },
    {
     "name": "stdout",
     "output_type": "stream",
     "text": [
      "Proporcion blanco: 0.9233149145508381\n"
     ]
    },
    {
     "data": {
      "image/png": "[encoded data removed]",
      "text/plain": [
       "<PIL.Image.Image image mode=RGB size=58x58>"
      ]
     },
     "metadata": {},
     "output_type": "display_data"
    },
    {
     "name": "stdout",
     "output_type": "stream",
     "text": [
      "===============Index: 3756===============\n",
      "Archivo: 2100200215X\n",
      "Partido: podemos\n",
      "Tipo: senadores\n",
      "\n",
      "\n",
      "Proporcion blanco: 0.9341755109640643\n"
     ]
    },
    {
     "data": {
      "image/png": "[encoded data removed]",
      "text/plain": [
       "<PIL.Image.Image image mode=RGB size=37x37>"
      ]
     },
     "metadata": {},
     "output_type": "display_data"
    },
    {
     "name": "stdout",
     "output_type": "stream",
     "text": [
      "Proporcion blanco: 0.9172655531348342\n"
     ]
    },
    {
     "data": {
      "image/png": "[encoded data removed]",
      "text/plain": [
       "<PIL.Image.Image image mode=RGB size=45x45>"
      ]
     },
     "metadata": {},
     "output_type": "display_data"
    },
    {
     "name": "stdout",
     "output_type": "stream",
     "text": [
      "Proporcion blanco: 0.8803373342198272\n"
     ]
    },
    {
     "data": {
      "image/png": "[encoded data removed]",
      "text/plain": [
       "<PIL.Image.Image image mode=RGB size=41x41>"
      ]
     },
     "metadata": {},
     "output_type": "display_data"
    },
    {
     "name": "stdout",
     "output_type": "stream",
     "text": [
      "Proporcion blanco: 0.9181082492168465\n"
     ]
    },
    {
     "data": {
      "image/png": "[encoded data removed]",
      "text/plain": [
       "<PIL.Image.Image image mode=RGB size=52x52>"
      ]
     },
     "metadata": {},
     "output_type": "display_data"
    }
   ],
   "source": [
    "plot_digitos(df, df_cant_sospechoso.head(10).index.values)"
   ]
  },
  {
   "cell_type": "markdown",
   "id": "e8fe0ae0",
   "metadata": {},
   "source": [
    "La mayoria escribio el numero en letras.\n",
    "\n",
    "Otros tienen errores de tipeo.\n",
    "\n",
    "Vamos a eliminarlos."
   ]
  },
  {
   "cell_type": "code",
   "execution_count": 44,
   "id": "7a927bac",
   "metadata": {},
   "outputs": [],
   "source": [
    "df = df[~df.id_telegrama.isin(df_cant_sospechoso.id_telegrama.unique())].copy()"
   ]
  },
  {
   "cell_type": "markdown",
   "id": "b65eec35",
   "metadata": {},
   "source": [
    "Recapitulando, ahora parecen mas normales las 4 variables referidas a los digitos."
   ]
  },
  {
   "cell_type": "code",
   "execution_count": 45,
   "id": "a94cbed6",
   "metadata": {
    "scrolled": true
   },
   "outputs": [
    {
     "data": {
      "image/png": "[encoded data removed]",
      "text/plain": [
       "<Figure size 1080x360 with 2 Axes>"
      ]
     },
     "metadata": {
      "needs_background": "light"
     },
     "output_type": "display_data"
    }
   ],
   "source": [
    "plot_dos_histogramas(df, 'min_size_digitos', 'max_size_digitos')"
   ]
  },
  {
   "cell_type": "code",
   "execution_count": 46,
   "id": "4a96365a",
   "metadata": {},
   "outputs": [
    {
     "data": {
      "image/png": "[encoded data removed]",
      "text/plain": [
       "<Figure size 1080x360 with 2 Axes>"
      ]
     },
     "metadata": {
      "needs_background": "light"
     },
     "output_type": "display_data"
    }
   ],
   "source": [
    "plot_dos_histogramas(df, 'min_prop_blanco_digitos', 'max_prop_blanco_digitos')"
   ]
  },
  {
   "cell_type": "code",
   "execution_count": 47,
   "id": "d09f33b2",
   "metadata": {},
   "outputs": [],
   "source": [
    "id_telegramas_completos = (\n",
    "    df\n",
    "    .groupby(['id_telegrama'])\n",
    "    .partido.count()\n",
    "    .reset_index()\n",
    "    .query(\"partido == 18\")\n",
    "    .id_telegrama\n",
    ")\n",
    "\n",
    "df_completos = df[df.id_telegrama.isin(id_telegramas_completos.values)]"
   ]
  },
  {
   "cell_type": "code",
   "execution_count": 48,
   "id": "5274d86e",
   "metadata": {
    "scrolled": true
   },
   "outputs": [
    {
     "data": {
      "text/plain": [
       "0.810942843185149"
      ]
     },
     "execution_count": 48,
     "metadata": {},
     "output_type": "execute_result"
    }
   ],
   "source": [
    "df_completos.id_telegrama.unique().shape[0] / 8188"
   ]
  },
  {
   "cell_type": "markdown",
   "id": "9fa4e8a8",
   "metadata": {},
   "source": [
    "A priori, 81% de los telegramas tienen todos los registros leidos.\n",
    "\n",
    "Sin embargo, tenemos el 97% de los telegramas que leimos \"bien\" al menos un registro"
   ]
  },
  {
   "cell_type": "code",
   "execution_count": 39,
   "id": "cbebc482",
   "metadata": {},
   "outputs": [],
   "source": [
    "def escalar_digitos(digitos):\n",
    "    digitos_ = []\n",
    "    for digito in digitos:\n",
    "        digito_escalado = cv2.resize(digito, (28, 28), interpolation=cv2.INTER_AREA)\n",
    "        digito_escalado = 255 - digito_escalado\n",
    "        digitos_.append(digito_escalado)\n",
    "    return np.array(digitos_)"
   ]
  },
  {
   "cell_type": "code",
   "execution_count": 40,
   "id": "e99b9bf5",
   "metadata": {},
   "outputs": [],
   "source": [
    "df['digitos_escalados'] = df.digitos.apply(escalar_digitos)"
   ]
  },
  {
   "cell_type": "code",
   "execution_count": 41,
   "id": "bb021fd9",
   "metadata": {
    "scrolled": true
   },
   "outputs": [],
   "source": [
    "digitos_row = df.digitos_escalados.values\n",
    "digitos = []\n",
    "\n",
    "for digito_row in digitos_row:\n",
    "    for digito in digito_row:\n",
    "        digitos.append(digito.reshape(len(digito), -1))\n",
    "    \n",
    "digitos = np.array(digitos, dtype=object)"
   ]
  },
  {
   "cell_type": "code",
   "execution_count": 42,
   "id": "7df6e702",
   "metadata": {},
   "outputs": [
    {
     "data": {
      "text/plain": [
       "array([[[0, 0, 0, ..., 0, 0, 0],\n",
       "        [0, 0, 6, ..., 0, 0, 0],\n",
       "        [0, 0, 26, ..., 0, 0, 0],\n",
       "        ...,\n",
       "        [0, 0, 0, ..., 0, 0, 0],\n",
       "        [0, 0, 0, ..., 0, 0, 0],\n",
       "        [0, 0, 0, ..., 1, 0, 0]],\n",
       "\n",
       "       [[0, 0, 0, ..., 6, 0, 0],\n",
       "        [0, 0, 0, ..., 71, 0, 0],\n",
       "        [0, 0, 0, ..., 128, 0, 0],\n",
       "        ...,\n",
       "        [0, 0, 0, ..., 70, 0, 0],\n",
       "        [0, 0, 0, ..., 0, 0, 0],\n",
       "        [0, 0, 0, ..., 0, 0, 0]],\n",
       "\n",
       "       [[0, 0, 0, ..., 0, 0, 0],\n",
       "        [0, 0, 0, ..., 0, 0, 0],\n",
       "        [0, 0, 0, ..., 0, 0, 0],\n",
       "        ...,\n",
       "        [0, 0, 0, ..., 0, 0, 0],\n",
       "        [0, 0, 0, ..., 0, 0, 0],\n",
       "        [0, 0, 0, ..., 0, 0, 0]],\n",
       "\n",
       "       ...,\n",
       "\n",
       "       [[0, 0, 0, ..., 0, 0, 0],\n",
       "        [0, 0, 0, ..., 0, 0, 0],\n",
       "        [0, 0, 0, ..., 0, 0, 0],\n",
       "        ...,\n",
       "        [0, 0, 0, ..., 0, 0, 0],\n",
       "        [0, 0, 0, ..., 0, 0, 0],\n",
       "        [0, 0, 0, ..., 0, 0, 0]],\n",
       "\n",
       "       [[0, 0, 0, ..., 0, 0, 0],\n",
       "        [0, 0, 0, ..., 0, 0, 0],\n",
       "        [0, 0, 0, ..., 0, 0, 0],\n",
       "        ...,\n",
       "        [0, 0, 0, ..., 0, 0, 0],\n",
       "        [0, 0, 0, ..., 0, 0, 0],\n",
       "        [0, 0, 0, ..., 0, 0, 0]],\n",
       "\n",
       "       [[0, 0, 0, ..., 0, 0, 0],\n",
       "        [0, 0, 0, ..., 0, 0, 0],\n",
       "        [0, 0, 0, ..., 0, 0, 0],\n",
       "        ...,\n",
       "        [0, 0, 0, ..., 0, 0, 0],\n",
       "        [0, 0, 0, ..., 0, 0, 0],\n",
       "        [0, 0, 0, ..., 0, 0, 0]]], dtype=object)"
      ]
     },
     "execution_count": 42,
     "metadata": {},
     "output_type": "execute_result"
    }
   ],
   "source": [
    "digitos"
   ]
  },
  {
   "cell_type": "code",
   "execution_count": null,
   "id": "153606a6",
   "metadata": {},
   "outputs": [],
   "source": []
  }
 ],
 "metadata": {
  "kernelspec": {
   "display_name": "Python 3.9.12 ('domain-adaptation')",
   "language": "python",
   "name": "python3"
  },
  "language_info": {
   "codemirror_mode": {
    "name": "ipython",
    "version": 3
   },
   "file_extension": ".py",
   "mimetype": "text/x-python",
   "name": "python",
   "nbconvert_exporter": "python",
   "pygments_lexer": "ipython3",
   "version": "3.9.12"
  },
  "vscode": {
   "interpreter": {
    "hash": "a4ed147ad90890547325df06cfd36200d4a2712afdc96010457b9ecee732c016"
   }
  }
 },
 "nbformat": 4,
 "nbformat_minor": 5
}
